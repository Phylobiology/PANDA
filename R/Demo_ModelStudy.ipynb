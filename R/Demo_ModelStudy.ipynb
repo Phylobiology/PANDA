{
 "cells": [
  {
   "cell_type": "markdown",
   "metadata": {},
   "source": [
    "\\begin{center}\n",
    "\n",
    "\\noindent{\\Large \\bf Appendix Programming \\\\ A general comparative phylogenetic framework for coevolving traits and coevolving lineages}\n",
    "\\bigskip\n",
    "\n",
    "\\noindent {\\normalsize \\sc Marc Manceau$^1$, Amaury Lambert$^{2,3}$, Hélène Morlon$^4$}\\\\\n",
    "\\noindent {\\small \\it \n",
    "$^1$Muséum National d'Histoire Naturelle, 75005 Paris, France;\\\\\n",
    "$^2$Laboratoire Probabilités et Modèles Aléatoires, UPMC Univ Paris 06, 75005 Paris, France;\\\\\n",
    "$^3$Center for Interdisciplinary Research in Biology, Collège de France, CNRS UMR 7241, 75005 Paris, France;\\\\\n",
    "$^4$Institut de Biologie, \\'Ecole Normale Supérieure, CNRS UMR 8197, 75005 Paris, France}\\\\\n",
    "\\end{center}\n",
    "\n",
    "The aim of this document is to describe the R codes associated to our framework. We describe the class \\texttt{PhenotypicModel}, show how to manipulate the different methods included in the class, and illustrate their use around a simple (non-ultrametric) tree.\n",
    "\n",
    "\\tableofcontents\n",
    "\n",
    "\\clearpage\n",
    "\\section{The 'PhenotypicModel' class}\n",
    "\n",
    "\\subsection{Loading a pre-defined model}\n",
    "\n",
    "First, we load some useful modules along with our codes, and we define the tree on which we will work."
   ]
  },
  {
   "cell_type": "code",
   "execution_count": 245,
   "metadata": {
    "collapsed": false
   },
   "outputs": [
    {
     "data": {
      "image/png": "[encoded data removed]",
      "image/svg+xml": [
       "<?xml version=\"1.0\" encoding=\"UTF-8\"?>\n",
       "<svg xmlns=\"http://www.w3.org/2000/svg\" xmlns:xlink=\"http://www.w3.org/1999/xlink\" width=\"504pt\" height=\"504pt\" viewBox=\"0 0 504 504\" version=\"1.1\">\n",
       "<defs>\n",
       "<g>\n",
       "<symbol overflow=\"visible\" id=\"glyph0-0\">\n",
       "<path style=\"stroke:none;\" d=\"\"/>\n",
       "</symbol>\n",
       "<symbol overflow=\"visible\" id=\"glyph0-1\">\n",
       "<path style=\"stroke:none;\" d=\"M 7.375 -0.125 L 6.125 -9.015625 L 4.5 -9.015625 L -0.640625 0 L 0.859375 0 L 2.34375 -2.625 L 5.5625 -2.625 L 5.875 0 L 7.390625 0 Z M 5.5625 -3.828125 L 3.03125 -3.828125 L 5.1875 -7.59375 L 4.9375 -7.6875 L 5.40625 -3.828125 Z M 5.5625 -3.828125 \"/>\n",
       "</symbol>\n",
       "<symbol overflow=\"visible\" id=\"glyph0-2\">\n",
       "<path style=\"stroke:none;\" d=\"M 7.59375 -3.234375 C 7.59375 -3.953125 7.140625 -4.515625 6.296875 -4.875 L 6.296875 -4.609375 C 7.34375 -5.078125 8.0625 -6.078125 8.0625 -7.140625 C 8.0625 -8.203125 7.109375 -9.015625 5.765625 -9.015625 L 2.09375 -9.015625 L 0.1875 0 L 4.3125 0 C 6.015625 0 7.59375 -1.4375 7.59375 -3.234375 Z M 6.640625 -6.859375 C 6.640625 -5.859375 6.125 -5.25 4.6875 -5.25 L 2.6875 -5.25 L 3.234375 -7.765625 L 5.296875 -7.765625 C 6.3125 -7.765625 6.640625 -7.578125 6.640625 -6.859375 Z M 6.171875 -3.03125 C 6.171875 -1.921875 5.515625 -1.25 4.40625 -1.25 L 1.84375 -1.25 L 2.421875 -4 L 5.046875 -4 C 5.875 -4 6.171875 -3.75 6.171875 -3.03125 Z M 6.171875 -3.03125 \"/>\n",
       "</symbol>\n",
       "<symbol overflow=\"visible\" id=\"glyph0-3\">\n",
       "<path style=\"stroke:none;\" d=\"M 8.21875 -3.453125 L 6.953125 -3.453125 C 6.140625 -1.609375 5.53125 -1.015625 3.984375 -1.015625 C 2.734375 -1.015625 2.046875 -1.859375 2.046875 -3.3125 C 2.046875 -4.40625 2.359375 -5.515625 2.96875 -6.4375 C 3.703125 -7.515625 4.484375 -7.984375 5.59375 -7.984375 C 6.796875 -7.984375 7.25 -7.46875 7.359375 -6.03125 L 8.78125 -6.03125 C 8.671875 -8.125 7.453125 -9.234375 5.796875 -9.234375 C 4.390625 -9.234375 3.125 -8.625 2.1875 -7.5 C 1.234375 -6.359375 0.609375 -4.59375 0.609375 -3.09375 C 0.609375 -1.1875 1.890625 0.21875 3.8125 0.21875 C 5.921875 0.21875 7.328125 -0.90625 8.40625 -3.453125 Z M 8.21875 -3.453125 \"/>\n",
       "</symbol>\n",
       "<symbol overflow=\"visible\" id=\"glyph0-4\">\n",
       "<path style=\"stroke:none;\" d=\"M 8.640625 -5.984375 C 8.640625 -7.625 7.5 -9.015625 5.71875 -9.015625 L 2.203125 -9.015625 L 0.296875 0 L 3.859375 0 C 6.453125 0 8.640625 -2.6875 8.640625 -5.984375 Z M 7.21875 -5.890625 C 7.21875 -3.140625 5.953125 -1.25 3.859375 -1.25 L 1.953125 -1.25 L 3.359375 -7.765625 L 5.296875 -7.765625 C 6.59375 -7.765625 7.21875 -7.140625 7.21875 -5.890625 Z M 7.21875 -5.890625 \"/>\n",
       "</symbol>\n",
       "<symbol overflow=\"visible\" id=\"glyph0-5\">\n",
       "<path style=\"stroke:none;\" d=\"M 6.890625 -0.125 L 7.109375 -1.25 L 1.96875 -1.25 L 2.5625 -3.984375 L 7.296875 -3.984375 L 7.578125 -5.234375 L 2.8125 -5.234375 L 3.375 -7.765625 L 8.3125 -7.765625 L 8.5625 -9.015625 L 2.21875 -9.015625 L 0.3125 0 L 6.859375 0 Z M 6.890625 -0.125 \"/>\n",
       "</symbol>\n",
       "<symbol overflow=\"visible\" id=\"glyph0-6\">\n",
       "<path style=\"stroke:none;\" d=\"M 8.140625 -7.890625 L 8.359375 -9.015625 L 2.21875 -9.015625 L 0.3125 0 L 1.71875 0 L 2.5625 -3.984375 L 6.734375 -3.984375 L 6.984375 -5.234375 L 2.8125 -5.234375 L 3.375 -7.765625 L 8.109375 -7.765625 Z M 8.140625 -7.890625 \"/>\n",
       "</symbol>\n",
       "<symbol overflow=\"visible\" id=\"glyph0-7\">\n",
       "<path style=\"stroke:none;\" d=\"M 8.921875 -4.890625 L 5.15625 -4.890625 L 4.890625 -3.640625 L 7.53125 -3.640625 L 7.5 -3.453125 C 7.140625 -1.890625 5.890625 -1.015625 4.34375 -1.015625 C 2.671875 -1.015625 2 -1.859375 2 -3.515625 C 2 -5.921875 3.5625 -7.984375 5.859375 -7.984375 C 7.078125 -7.984375 7.84375 -7.453125 7.875 -6.09375 L 9.234375 -6.09375 L 9.234375 -6.4375 C 9.234375 -8.03125 7.953125 -9.234375 6.078125 -9.234375 C 2.875 -9.234375 0.578125 -6.125 0.578125 -3.328125 C 0.578125 -1.140625 2.046875 0.21875 3.953125 0.21875 C 5.1875 0.21875 6.125 -0.125 7.03125 -0.890625 L 7.09375 0 L 8.046875 0 L 9.078125 -4.890625 Z M 8.921875 -4.890625 \"/>\n",
       "</symbol>\n",
       "</g>\n",
       "</defs>\n",
       "<g id=\"surface224\">\n",
       "<rect x=\"0\" y=\"0\" width=\"504\" height=\"504\" style=\"fill:rgb(100%,100%,100%);fill-opacity:1;stroke:none;\"/>\n",
       "<path style=\"fill:none;stroke-width:0.75;stroke-linecap:round;stroke-linejoin:round;stroke:rgb(0%,0%,0%);stroke-opacity:1;stroke-miterlimit:10;\" d=\"M 74.398438 259.132812 L 133.519531 259.132812 \"/>\n",
       "<path style=\"fill:none;stroke-width:0.75;stroke-linecap:round;stroke-linejoin:round;stroke:rgb(0%,0%,0%);stroke-opacity:1;stroke-miterlimit:10;\" d=\"M 133.519531 330.800781 L 310.875 330.800781 \"/>\n",
       "<path style=\"fill:none;stroke-width:0.75;stroke-linecap:round;stroke-linejoin:round;stroke:rgb(0%,0%,0%);stroke-opacity:1;stroke-miterlimit:10;\" d=\"M 310.875 388.132812 L 369.996094 388.132812 \"/>\n",
       "<path style=\"fill:none;stroke-width:0.75;stroke-linecap:round;stroke-linejoin:round;stroke:rgb(0%,0%,0%);stroke-opacity:1;stroke-miterlimit:10;\" d=\"M 369.996094 416.800781 L 399.554688 416.800781 \"/>\n",
       "<path style=\"fill:none;stroke-width:0.75;stroke-linecap:round;stroke-linejoin:round;stroke:rgb(0%,0%,0%);stroke-opacity:1;stroke-miterlimit:10;\" d=\"M 369.996094 359.464844 L 384.777344 359.464844 \"/>\n",
       "<path style=\"fill:none;stroke-width:0.75;stroke-linecap:round;stroke-linejoin:round;stroke:rgb(0%,0%,0%);stroke-opacity:1;stroke-miterlimit:10;\" d=\"M 310.875 273.464844 L 340.4375 273.464844 \"/>\n",
       "<path style=\"fill:none;stroke-width:0.75;stroke-linecap:round;stroke-linejoin:round;stroke:rgb(0%,0%,0%);stroke-opacity:1;stroke-miterlimit:10;\" d=\"M 340.4375 302.132812 L 429.113281 302.132812 \"/>\n",
       "<path style=\"fill:none;stroke-width:0.75;stroke-linecap:round;stroke-linejoin:round;stroke:rgb(0%,0%,0%);stroke-opacity:1;stroke-miterlimit:10;\" d=\"M 340.4375 244.800781 L 414.335938 244.800781 \"/>\n",
       "<path style=\"fill:none;stroke-width:0.75;stroke-linecap:round;stroke-linejoin:round;stroke:rgb(0%,0%,0%);stroke-opacity:1;stroke-miterlimit:10;\" d=\"M 133.519531 187.464844 L 436.503906 187.464844 \"/>\n",
       "<path style=\"fill:none;stroke-width:0.75;stroke-linecap:round;stroke-linejoin:round;stroke:rgb(0%,0%,0%);stroke-opacity:1;stroke-miterlimit:10;\" d=\"M 74.398438 101.464844 L 163.078125 101.464844 \"/>\n",
       "<path style=\"fill:none;stroke-width:0.75;stroke-linecap:round;stroke-linejoin:round;stroke:rgb(0%,0%,0%);stroke-opacity:1;stroke-miterlimit:10;\" d=\"M 163.078125 130.132812 L 355.214844 130.132812 \"/>\n",
       "<path style=\"fill:none;stroke-width:0.75;stroke-linecap:round;stroke-linejoin:round;stroke:rgb(0%,0%,0%);stroke-opacity:1;stroke-miterlimit:10;\" d=\"M 163.078125 72.800781 L 406.945312 72.800781 \"/>\n",
       "<path style=\"fill:none;stroke-width:0.75;stroke-linecap:round;stroke-linejoin:round;stroke:rgb(0%,0%,0%);stroke-opacity:1;stroke-miterlimit:10;\" d=\"M 74.398438 259.132812 L 74.398438 101.464844 \"/>\n",
       "<path style=\"fill:none;stroke-width:0.75;stroke-linecap:round;stroke-linejoin:round;stroke:rgb(0%,0%,0%);stroke-opacity:1;stroke-miterlimit:10;\" d=\"M 133.519531 330.800781 L 133.519531 187.464844 \"/>\n",
       "<path style=\"fill:none;stroke-width:0.75;stroke-linecap:round;stroke-linejoin:round;stroke:rgb(0%,0%,0%);stroke-opacity:1;stroke-miterlimit:10;\" d=\"M 310.875 388.132812 L 310.875 273.464844 \"/>\n",
       "<path style=\"fill:none;stroke-width:0.75;stroke-linecap:round;stroke-linejoin:round;stroke:rgb(0%,0%,0%);stroke-opacity:1;stroke-miterlimit:10;\" d=\"M 369.996094 416.800781 L 369.996094 359.464844 \"/>\n",
       "<path style=\"fill:none;stroke-width:0.75;stroke-linecap:round;stroke-linejoin:round;stroke:rgb(0%,0%,0%);stroke-opacity:1;stroke-miterlimit:10;\" d=\"M 340.4375 302.132812 L 340.4375 244.800781 \"/>\n",
       "<path style=\"fill:none;stroke-width:0.75;stroke-linecap:round;stroke-linejoin:round;stroke:rgb(0%,0%,0%);stroke-opacity:1;stroke-miterlimit:10;\" d=\"M 163.078125 130.132812 L 163.078125 72.800781 \"/>\n",
       "<g style=\"fill:rgb(0%,0%,0%);fill-opacity:1;\">\n",
       "  <use xlink:href=\"#glyph0-1\" x=\"399.554688\" y=\"421.3125\"/>\n",
       "</g>\n",
       "<g style=\"fill:rgb(0%,0%,0%);fill-opacity:1;\">\n",
       "  <use xlink:href=\"#glyph0-2\" x=\"384.777344\" y=\"363.976562\"/>\n",
       "</g>\n",
       "<g style=\"fill:rgb(0%,0%,0%);fill-opacity:1;\">\n",
       "  <use xlink:href=\"#glyph0-3\" x=\"429.113281\" y=\"306.144531\"/>\n",
       "</g>\n",
       "<g style=\"fill:rgb(0%,0%,0%);fill-opacity:1;\">\n",
       "  <use xlink:href=\"#glyph0-4\" x=\"414.335938\" y=\"249.3125\"/>\n",
       "</g>\n",
       "<g style=\"fill:rgb(0%,0%,0%);fill-opacity:1;\">\n",
       "  <use xlink:href=\"#glyph0-5\" x=\"436.503906\" y=\"191.976562\"/>\n",
       "</g>\n",
       "<g style=\"fill:rgb(0%,0%,0%);fill-opacity:1;\">\n",
       "  <use xlink:href=\"#glyph0-6\" x=\"355.214844\" y=\"134.644531\"/>\n",
       "</g>\n",
       "<g style=\"fill:rgb(0%,0%,0%);fill-opacity:1;\">\n",
       "  <use xlink:href=\"#glyph0-7\" x=\"406.945312\" y=\"76.8125\"/>\n",
       "</g>\n",
       "</g>\n",
       "</svg>\n"
      ],
      "text/plain": [
       "plot without title"
      ]
     },
     "metadata": {
      "image/svg+xml": {
       "isolated": true
      }
     },
     "output_type": "display_data"
    }
   ],
   "source": [
    "source(\"Loading.R\")\n",
    "newick <- \"((((A:1,B:0.5):2,(C:3,D:2.5):1):6,E:10.25):2,(F:6.5,G:8.25):3):1;\"\n",
    "tree <- read.tree(text=newick)\n",
    "plot(tree)"
   ]
  },
  {
   "cell_type": "markdown",
   "metadata": {},
   "source": [
    "Because we wanted this code both to be user-friendly and to serve as an illustration of what can be written within this framework, we implemented most classic models in a generic constructor \\texttt{createModel}, in the file 'ModelBank.R', that takes for arguments the tree and the name of the required model.\n",
    "\n",
    "Available models include :\n",
    "\\begin{description}\n",
    "\\item[BM] Brownian Motion model with linear drift.\\\\Starts with two lineages having the same value $X_0 \\sim \\mathcal{N}(m_0,v_0)$.\\\\One trait in each lineage, all lineages evolving independently after branching following the equation.\\begin{align*}dX_t^{(i)} = d dt + \\sigma dW_t^{(i)}\\end{align*}\n",
    "\\item[BM\\_from0] Same as above, but starting with two lineages having the same value $X_0 \\sim \\mathcal{N}(0,0)$.\n",
    "\\item[BM\\_from0\\_driftless] Same as above, but with $d=0$.\n",
    "\\item[OU] Ornstein-Uhlenbeck model.\\\\Starts with two lineages having the same value $X_0 \\sim \\mathcal{N}(m_0,v_0)$.\\\\One trait in each lineage, all lineages evolving independently after branching, following the equation :\\begin{align*}dX_t^{(i)} = \\psi(\\theta - X_t) dt + \\sigma dW_t^{(i)}\\end{align*}\n",
    "\\item[OU\\_from0] Same as above, but starting with two lineages having the same value $X_0 \\sim \\mathcal{N}(0,0)$.\n",
    "\\item[EB] Early-Burst model.\\\\Starts with two lineages having the same value $X_0 \\sim \\mathcal{N}(m_0,v_0)$.\\\\One trait in each lineage, all lineages evolving independently after branching, following the equation :\\begin{align*}dX_t^{(i)} = \\sigma_0 e^{-\\frac{1}{2} rt} dW_t^{(i)} \\end{align*}\n",
    "\\item[PM] Phenotype Matching model.\\\\Starts with two lineages having the same value $X_0 \\sim \\mathcal{N}(m_0,v_0)$.\\\\One trait in each lineage, all lineages evolving then non-independently following the expression :\\begin{align*} dX_t^{(i)} = \\psi \\left( \\theta - X_t^{(i)} \\right) + S \\left( \\frac{1}{n} \\sum_{k=1}^n X_t^{(k)} - X_t^{(i)} \\right) + \\sigma dW_t^{(i)} \\end{align*}\n",
    "\\end{description}"
   ]
  },
  {
   "cell_type": "markdown",
   "metadata": {},
   "source": [
    "We can now define our first two models. The first one is a Brownian Motion model (BM), the second one is an Ornstein-Uhlenbeck model (OU). Note that both models include $m_0$ and $v_0$ as parameters.\n",
    "\n",
    "We use the function \\texttt{show} to get basic information and the function \\texttt{print} to get full information, on a given model."
   ]
  },
  {
   "cell_type": "code",
   "execution_count": 246,
   "metadata": {
    "collapsed": false
   },
   "outputs": [],
   "source": [
    "modelBM <- createModel(tree, 'BM')\n",
    "modelOU <- createModel(tree, 'OU')"
   ]
  },
  {
   "cell_type": "markdown",
   "metadata": {},
   "source": [
    "\\subsection{Access to the content of the model}\n",
    "\n",
    "Two functions can be used to examine the content of a model. The function \\texttt{show} is intended to give the basic information, whereas \\texttt{print} gives full access to the content."
   ]
  },
  {
   "cell_type": "code",
   "execution_count": 247,
   "metadata": {
    "collapsed": false
   },
   "outputs": [
    {
     "name": "stdout",
     "output_type": "stream",
     "text": [
      "****************************************************************\n",
      "*** Object of Class PhenotypicModel *** \n",
      "*** Name of the model : [1] \"BM\"\n",
      "*** Parameters of the model : [1] \"m0\"    \"v0\"    \"d\"     \"sigma\"\n",
      "*** Description : Brownian Motion model with linear drift.\n",
      "Starts with two lineages having the same value X_0 ~ Normal(m0,v0).\n",
      "One trait in each lineage, all lineages evolving independently after branching.\n",
      "dX_t = d dt + sigma dW_t\n",
      "*** Periods : the model is cut into  13  parts. \n",
      "For more details on the model, call : print(PhenotypicModel)\n",
      "****************************************************************\n"
     ]
    }
   ],
   "source": [
    "show(modelBM)"
   ]
  },
  {
   "cell_type": "code",
   "execution_count": 248,
   "metadata": {
    "collapsed": false
   },
   "outputs": [
    {
     "name": "stdout",
     "output_type": "stream",
     "text": [
      "****************************************************************\n",
      "*** Object of Class PhenotypicModel *** \n",
      "*** Name of the model : [1] \"OU\"\n",
      "*** Parameters of the model : [1] \"m0\"    \"v0\"    \"psi\"   \"theta\" \"sigma\"\n",
      "*** Description : Ornstein-Uhlenbeck model.\n",
      "Starts with two lineages having the same value X_0 ~ Normal(m0,v0).\n",
      "One trait in each lineage, all lineages evolving independently after branching.\n",
      "dX_t = psi(theta- X_t) dt + sigma dW_t\n",
      "*** Periods : the model is cut into  13  parts. \n",
      " [1]  0.00  2.00  3.00  8.00  9.00  9.50 10.00 10.50 11.00 11.25 11.50 12.00\n",
      "[13] 12.25\n",
      "*** Lineages branching (to be copied at the end of the corresponding period) :\n",
      " [1] 1 1 3 1 2 5 1 2 1 7 4 3 5\n",
      "*** Positions of the new trait at the end of each period :\n",
      " [1] 2 2 4 2 3 0 2 0 0 0 0 0 0\n",
      "*** Initial condition :\n",
      "function (params) \n",
      "{\n",
      "    return(list(mean = c(params[1]), var = matrix(c(params[2]))))\n",
      "}\n",
      "<environment: 0x34dd2c0>\n",
      "*** Vectors a_i, A_i, Gamma_i on each period i : \n",
      "function (i, params) \n",
      "{\n",
      "    description <- describeOnePeriod(i, periodizing, tree)\n",
      "    functiona <- function(t) {\n",
      "        return(params[3] * params[4] * description$livingLineages)\n",
      "    }\n",
      "    matrixA <- params[3] * diag(description$livingLineages)\n",
      "    functionGamma <- function(t) {\n",
      "        return(diag(params[5] * description$livingLineages))\n",
      "    }\n",
      "    return(list(a = functiona, A = matrixA, Gamma = functionGamma))\n",
      "}\n",
      "<environment: 0x34dd2c0>\n",
      "*** Constraints on the parameters : \n",
      "function (params) \n",
      "{\n",
      "    return(params[2] >= 0 && params[5] >= 0 && params[3] != 0)\n",
      "}\n",
      "<environment: 0x34dd2c0>\n",
      "*** Defaut parameter values : [1] 0 0 1 0 1\n",
      "****************************************************************\n"
     ]
    }
   ],
   "source": [
    "print(modelOU)"
   ]
  },
  {
   "cell_type": "markdown",
   "metadata": {},
   "source": [
    "\\subsection{List of class attributes}\n",
    "\n",
    "The latter command gives us some insight into how a \\texttt{PhenotypicModel} is defined. It has the following list of attributes :\n",
    "\n",
    "\\begin{description}\n",
    "\\item[name] a name,\n",
    "\\item[paramsNames] the names of all parameters,\n",
    "\\item[comment] a short description,\n",
    "\\item[period] the vector of times at which successive branching and death of lineages occur,\n",
    "\\item[numbersCopy] vector containing the lineage number which branches or dies at the end of each period,\n",
    "\\item[numbersPaste] vector containing the lineage number in which a daughter lineage is placed at the end of each period (zero if the end of the period corresponds to a death),\n",
    "\\item[initialCondition] a function of the parameters giving the initial mean and variance of the gaussian process at the root of the tree,\n",
    "\\item[aAGamma] the functions corresponding to $a_i(t)$, $A_i$, and $\\Gamma_i(t)$ that define the evolution of the process on each period,\n",
    "\\item[constraints] a function of the parameters giving the definition range,\n",
    "\\item[params0] a vector of defaut parameter values.\n",
    "\\end{description}"
   ]
  },
  {
   "cell_type": "markdown",
   "metadata": {},
   "source": [
    "Each of these attributes can be accessed and changed through the use of the following syntax :"
   ]
  },
  {
   "cell_type": "code",
   "execution_count": 249,
   "metadata": {
    "collapsed": false
   },
   "outputs": [
    {
     "data": {
      "text/html": [
       "'BM'"
      ],
      "text/latex": [
       "'BM'"
      ],
      "text/markdown": [
       "'BM'"
      ],
      "text/plain": [
       "[1] \"BM\""
      ]
     },
     "execution_count": 249,
     "metadata": {},
     "output_type": "execute_result"
    }
   ],
   "source": [
    "modelBM['name']"
   ]
  },
  {
   "cell_type": "code",
   "execution_count": 250,
   "metadata": {
    "collapsed": false
   },
   "outputs": [
    {
     "data": {
      "text/html": [
       "<ol class=list-inline>\n",
       "\t<li>'m0'</li>\n",
       "\t<li>'v0'</li>\n",
       "\t<li>'d'</li>\n",
       "\t<li>'sigma'</li>\n",
       "</ol>\n"
      ],
      "text/latex": [
       "\\begin{enumerate*}\n",
       "\\item 'm0'\n",
       "\\item 'v0'\n",
       "\\item 'd'\n",
       "\\item 'sigma'\n",
       "\\end{enumerate*}\n"
      ],
      "text/markdown": [
       "1. 'm0'\n",
       "2. 'v0'\n",
       "3. 'd'\n",
       "4. 'sigma'\n",
       "\n",
       "\n"
      ],
      "text/plain": [
       "[1] \"m0\"    \"v0\"    \"d\"     \"sigma\""
      ]
     },
     "execution_count": 250,
     "metadata": {},
     "output_type": "execute_result"
    }
   ],
   "source": [
    "modelBM['paramsNames']"
   ]
  },
  {
   "cell_type": "code",
   "execution_count": 251,
   "metadata": {
    "collapsed": false
   },
   "outputs": [
    {
     "name": "stdout",
     "output_type": "stream",
     "text": [
      "****************************************************************\n",
      "*** Object of Class PhenotypicModel *** \n",
      "*** Name of the model : [1] \"OU\"\n",
      "*** Parameters of the model : [1] \"mean0\"             \"var0\"              \"selectionStrength\"\n",
      "[4] \"equilibrium\"       \"noise\"            \n",
      "*** Description : Ornstein-Uhlenbeck model.\n",
      "Starts with two lineages having the same value X_0 ~ Normal(m0,v0).\n",
      "One trait in each lineage, all lineages evolving independently after branching.\n",
      "dX_t = psi(theta- X_t) dt + sigma dW_t\n",
      "*** Periods : the model is cut into  13  parts. \n",
      "For more details on the model, call : print(PhenotypicModel)\n",
      "****************************************************************\n"
     ]
    }
   ],
   "source": [
    "modelOU['paramsNames'] <- c(\"mean0\", \"var0\", \"selectionStrength\", \"equilibrium\", \"noise\")\n",
    "show(modelOU)"
   ]
  },
  {
   "cell_type": "markdown",
   "metadata": {},
   "source": [
    "However, changes must be made cautiously, in order to keep a coherent model. For example, changing 'paramsNames' for a shorter vector would not be authorized, but other deleterious actions could work and lead to issues with the methods associated to \\texttt{PhenotypicModel} objects."
   ]
  },
  {
   "cell_type": "code",
   "execution_count": 252,
   "metadata": {
    "collapsed": false
   },
   "outputs": [
    {
     "ename": "ERROR",
     "evalue": "Error in validityMethod(as(object, superClass)): [PhenotypicModel : validation] There should be the same number of defaut parameters and parameter names.\n",
     "output_type": "error",
     "traceback": [
      "Error in validityMethod(as(object, superClass)): [PhenotypicModel : validation] There should be the same number of defaut parameters and parameter names.\n"
     ]
    }
   ],
   "source": [
    "modelOU['paramsNames'] <- c(\"mean0\", \"var0\")"
   ]
  },
  {
   "cell_type": "markdown",
   "metadata": {},
   "source": [
    "\\clearpage\n",
    "\\section{Methods associated to the 'PhenotypicModel' class}\n",
    "\n",
    "\\subsection{Simulating tip trait data}\n",
    "\n",
    "The first method associated with \\texttt{PhenotypicModel} objects that we will use here is \\texttt{simulateTipData}. We simply give it the model and the set of parameters and it returns a realisation of the process (tip data)."
   ]
  },
  {
   "cell_type": "code",
   "execution_count": 253,
   "metadata": {
    "collapsed": false
   },
   "outputs": [
    {
     "name": "stdout",
     "output_type": "stream",
     "text": [
      "*** Simulation of tip trait values ***\n",
      "Simulating step-by-step the whole trajectory of a realization of the model, before returning only the tip data...\n"
     ]
    },
    {
     "data": {
      "text/html": [
       "<table>\n",
       "<tbody>\n",
       "\t<tr><td>-5.750718</td></tr>\n",
       "\t<tr><td>-5.553919</td></tr>\n",
       "\t<tr><td>-7.522069</td></tr>\n",
       "\t<tr><td>-3.105434</td></tr>\n",
       "\t<tr><td>2.326861</td></tr>\n",
       "\t<tr><td>-5.035963</td></tr>\n",
       "\t<tr><td>-4.148336</td></tr>\n",
       "</tbody>\n",
       "</table>\n"
      ],
      "text/latex": [
       "\\begin{tabular}{l}\n",
       "\t -5.750718\\\\\n",
       "\t -5.553919\\\\\n",
       "\t -7.522069\\\\\n",
       "\t -3.105434\\\\\n",
       "\t 2.326861\\\\\n",
       "\t -5.035963\\\\\n",
       "\t -4.148336\\\\\n",
       "\\end{tabular}\n"
      ],
      "text/markdown": [
       "1. -5.75071814422669\n",
       "2. -5.55391885064603\n",
       "3. -7.52206934547017\n",
       "4. -3.105433825291\n",
       "5. 2.32686092744243\n",
       "6. -5.03596338660463\n",
       "7. -4.14833587344808\n",
       "\n",
       "\n"
      ],
      "text/plain": [
       "          [,1]\n",
       "[1,] -5.750718\n",
       "[2,] -5.553919\n",
       "[3,] -7.522069\n",
       "[4,] -3.105434\n",
       "[5,]  2.326861\n",
       "[6,] -5.035963\n",
       "[7,] -4.148336"
      ]
     },
     "execution_count": 253,
     "metadata": {},
     "output_type": "execute_result"
    }
   ],
   "source": [
    "dataBM <- simulateTipData(modelBM, c(0,0,0,1))\n",
    "dataBM"
   ]
  },
  {
   "cell_type": "code",
   "execution_count": 254,
   "metadata": {
    "collapsed": false
   },
   "outputs": [
    {
     "name": "stdout",
     "output_type": "stream",
     "text": [
      "*** Simulation of tip trait values ***\n",
      "Simulating step-by-step the whole trajectory of a realization of the model, before returning only the tip data...\n"
     ]
    },
    {
     "data": {
      "text/html": [
       "<table>\n",
       "<tbody>\n",
       "\t<tr><td>5.201917</td></tr>\n",
       "\t<tr><td>4.947211</td></tr>\n",
       "\t<tr><td>5.397529</td></tr>\n",
       "\t<tr><td>5.845277</td></tr>\n",
       "\t<tr><td>4.793885</td></tr>\n",
       "\t<tr><td>4.880948</td></tr>\n",
       "\t<tr><td>4.323585</td></tr>\n",
       "</tbody>\n",
       "</table>\n"
      ],
      "text/latex": [
       "\\begin{tabular}{l}\n",
       "\t 5.201917\\\\\n",
       "\t 4.947211\\\\\n",
       "\t 5.397529\\\\\n",
       "\t 5.845277\\\\\n",
       "\t 4.793885\\\\\n",
       "\t 4.880948\\\\\n",
       "\t 4.323585\\\\\n",
       "\\end{tabular}\n"
      ],
      "text/markdown": [
       "1. 5.20191713909761\n",
       "2. 4.9472112656424\n",
       "3. 5.39752890748134\n",
       "4. 5.84527729195834\n",
       "5. 4.79388492934042\n",
       "6. 4.88094764143257\n",
       "7. 4.32358504810255\n",
       "\n",
       "\n"
      ],
      "text/plain": [
       "         [,1]\n",
       "[1,] 5.201917\n",
       "[2,] 4.947211\n",
       "[3,] 5.397529\n",
       "[4,] 5.845277\n",
       "[5,] 4.793885\n",
       "[6,] 4.880948\n",
       "[7,] 4.323585"
      ]
     },
     "execution_count": 254,
     "metadata": {},
     "output_type": "execute_result"
    }
   ],
   "source": [
    "dataOU <- simulateTipData(modelOU, c(0,0,1,5,1))\n",
    "dataOU"
   ]
  },
  {
   "cell_type": "markdown",
   "metadata": {},
   "source": [
    "A third, optional, argument, changes the behaviour of the method. The \"method=1\" argument first computes the tip distribution at present, before drawing a realization of this distribution, while \"method=2\" simulates step-by-step the whole trajectory of the process, plots the trajectories through time, and returns the tip data."
   ]
  },
  {
   "cell_type": "code",
   "execution_count": 255,
   "metadata": {
    "collapsed": false
   },
   "outputs": [
    {
     "name": "stdout",
     "output_type": "stream",
     "text": [
      "*** Simulation of tip trait values ***\n",
      "Computing first the tip distribution, and returning a simulated dataset drawn in this distribution...\n"
     ]
    },
    {
     "data": {
      "text/html": [
       "<table>\n",
       "<tbody>\n",
       "\t<tr><td>4.864876</td></tr>\n",
       "\t<tr><td>5.152304</td></tr>\n",
       "\t<tr><td>5.009483</td></tr>\n",
       "\t<tr><td>4.772804</td></tr>\n",
       "\t<tr><td>4.573878</td></tr>\n",
       "\t<tr><td>4.822696</td></tr>\n",
       "\t<tr><td>5.269569</td></tr>\n",
       "</tbody>\n",
       "</table>\n"
      ],
      "text/latex": [
       "\\begin{tabular}{l}\n",
       "\t 4.864876\\\\\n",
       "\t 5.152304\\\\\n",
       "\t 5.009483\\\\\n",
       "\t 4.772804\\\\\n",
       "\t 4.573878\\\\\n",
       "\t 4.822696\\\\\n",
       "\t 5.269569\\\\\n",
       "\\end{tabular}\n"
      ],
      "text/markdown": [
       "1. 4.8648759228338\n",
       "2. 5.15230369503628\n",
       "3. 5.00948347542281\n",
       "4. 4.77280384614955\n",
       "5. 4.57387798570157\n",
       "6. 4.8226961733085\n",
       "7. 5.26956927496185\n",
       "\n",
       "\n"
      ],
      "text/plain": [
       "         [,1]\n",
       "[1,] 4.864876\n",
       "[2,] 5.152304\n",
       "[3,] 5.009483\n",
       "[4,] 4.772804\n",
       "[5,] 4.573878\n",
       "[6,] 4.822696\n",
       "[7,] 5.269569"
      ]
     },
     "execution_count": 255,
     "metadata": {},
     "output_type": "execute_result"
    }
   ],
   "source": [
    "dataOU <- simulateTipData(modelOU, c(0,0,1,5,1), method=1)\n",
    "dataOU"
   ]
  },
  {
   "cell_type": "code",
   "execution_count": 256,
   "metadata": {
    "collapsed": false
   },
   "outputs": [
    {
     "name": "stdout",
     "output_type": "stream",
     "text": [
      "*** Simulation of tip trait values ***\n",
      "Simulating step-by-step the whole trajectory of a realization of the model and plotting the whole trajectory, before returning the tip data...\n"
     ]
    },
    {
     "ename": "ERROR",
     "evalue": "Error in matrix(data = X, ncol = 1): objet 'X' introuvable\n",
     "output_type": "error",
     "traceback": [
      "Error in matrix(data = X, ncol = 1): objet 'X' introuvable\n"
     ]
    },
    {
     "data": {
      "text/html": [
       "<table>\n",
       "<tbody>\n",
       "\t<tr><td>4.864876</td></tr>\n",
       "\t<tr><td>5.152304</td></tr>\n",
       "\t<tr><td>5.009483</td></tr>\n",
       "\t<tr><td>4.772804</td></tr>\n",
       "\t<tr><td>4.573878</td></tr>\n",
       "\t<tr><td>4.822696</td></tr>\n",
       "\t<tr><td>5.269569</td></tr>\n",
       "</tbody>\n",
       "</table>\n"
      ],
      "text/latex": [
       "\\begin{tabular}{l}\n",
       "\t 4.864876\\\\\n",
       "\t 5.152304\\\\\n",
       "\t 5.009483\\\\\n",
       "\t 4.772804\\\\\n",
       "\t 4.573878\\\\\n",
       "\t 4.822696\\\\\n",
       "\t 5.269569\\\\\n",
       "\\end{tabular}\n"
      ],
      "text/markdown": [
       "1. 4.8648759228338\n",
       "2. 5.15230369503628\n",
       "3. 5.00948347542281\n",
       "4. 4.77280384614955\n",
       "5. 4.57387798570157\n",
       "6. 4.8226961733085\n",
       "7. 5.26956927496185\n",
       "\n",
       "\n"
      ],
      "text/plain": [
       "         [,1]\n",
       "[1,] 4.864876\n",
       "[2,] 5.152304\n",
       "[3,] 5.009483\n",
       "[4,] 4.772804\n",
       "[5,] 4.573878\n",
       "[6,] 4.822696\n",
       "[7,] 5.269569"
      ]
     },
     "execution_count": 256,
     "metadata": {},
     "output_type": "execute_result"
    }
   ],
   "source": [
    "dataOU <- simulateTipData(modelOU, c(0,0,1,5,1), method=2)\n",
    "dataOU"
   ]
  },
  {
   "cell_type": "markdown",
   "metadata": {},
   "source": [
    "\\subsection{Getting the distribution of the model under a given set of parameters}\n",
    "\n",
    "We can now use the implemented method \\texttt{getTipDistribution} that computes the mean vector $m$ and variance matrix $\\Sigma$ such that, under the model, the tip trait data $X$ follows $\\mathcal{N}(m, \\Sigma)$.\n",
    "\n",
    "The second method \\texttt{getDataLikelihood} returns the -ln(likelihood) of a given data set under the model, with a given set of parameters."
   ]
  },
  {
   "cell_type": "code",
   "execution_count": 257,
   "metadata": {
    "collapsed": false
   },
   "outputs": [
    {
     "data": {
      "text/html": [
       "<dl>\n",
       "\t<dt>$mean</dt>\n",
       "\t\t<dd><table>\n",
       "<tbody>\n",
       "\t<tr><td>11</td></tr>\n",
       "\t<tr><td>10.5</td></tr>\n",
       "\t<tr><td>12</td></tr>\n",
       "\t<tr><td>11.5</td></tr>\n",
       "\t<tr><td>12.25</td></tr>\n",
       "\t<tr><td>9.5</td></tr>\n",
       "\t<tr><td>11.25</td></tr>\n",
       "</tbody>\n",
       "</table>\n",
       "</dd>\n",
       "\t<dt>$Sigma</dt>\n",
       "\t\t<dd><table>\n",
       "<tbody>\n",
       "\t<tr><td>11</td><td>10</td><td> 8</td><td> 8</td><td> 2</td><td> 0</td><td> 0</td></tr>\n",
       "\t<tr><td>10.0</td><td>10.5</td><td> 8.0</td><td> 8.0</td><td> 2.0</td><td> 0.0</td><td> 0.0</td></tr>\n",
       "\t<tr><td> 8</td><td> 8</td><td>12</td><td> 9</td><td> 2</td><td> 0</td><td> 0</td></tr>\n",
       "\t<tr><td> 8.0</td><td> 8.0</td><td> 9.0</td><td>11.5</td><td> 2.0</td><td> 0.0</td><td> 0.0</td></tr>\n",
       "\t<tr><td> 2.00</td><td> 2.00</td><td> 2.00</td><td> 2.00</td><td>12.25</td><td> 0.00</td><td> 0.00</td></tr>\n",
       "\t<tr><td>0.0</td><td>0.0</td><td>0.0</td><td>0.0</td><td>0.0</td><td>9.5</td><td>3.0</td></tr>\n",
       "\t<tr><td> 0.00</td><td> 0.00</td><td> 0.00</td><td> 0.00</td><td> 0.00</td><td> 3.00</td><td>11.25</td></tr>\n",
       "</tbody>\n",
       "</table>\n",
       "</dd>\n",
       "</dl>\n"
      ],
      "text/latex": [
       "\\begin{description}\n",
       "\\item[\\$mean] \\begin{tabular}{l}\n",
       "\t 11\\\\\n",
       "\t 10.5\\\\\n",
       "\t 12\\\\\n",
       "\t 11.5\\\\\n",
       "\t 12.25\\\\\n",
       "\t 9.5\\\\\n",
       "\t 11.25\\\\\n",
       "\\end{tabular}\n",
       "\n",
       "\\item[\\$Sigma] \\begin{tabular}{lllllll}\n",
       "\t 11 & 10 &  8 &  8 &  2 &  0 &  0\\\\\n",
       "\t 10.0 & 10.5 &  8.0 &  8.0 &  2.0 &  0.0 &  0.0\\\\\n",
       "\t  8 &  8 & 12 &  9 &  2 &  0 &  0\\\\\n",
       "\t  8.0 &  8.0 &  9.0 & 11.5 &  2.0 &  0.0 &  0.0\\\\\n",
       "\t  2.00 &  2.00 &  2.00 &  2.00 & 12.25 &  0.00 &  0.00\\\\\n",
       "\t 0.0 & 0.0 & 0.0 & 0.0 & 0.0 & 9.5 & 3.0\\\\\n",
       "\t  0.00 &  0.00 &  0.00 &  0.00 &  0.00 &  3.00 & 11.25\\\\\n",
       "\\end{tabular}\n",
       "\n",
       "\\end{description}\n"
      ],
      "text/markdown": [
       "$mean\n",
       ":   1. 11\n",
       "2. 10.5\n",
       "3. 12\n",
       "4. 11.5\n",
       "5. 12.25\n",
       "6. 9.5\n",
       "7. 11.25\n",
       "\n",
       "\n",
       "\n",
       "$Sigma\n",
       ":   1. 11\n",
       "2. 10\n",
       "3. 8\n",
       "4. 8\n",
       "5. 2\n",
       "6. 0\n",
       "7. 0\n",
       "8. 10\n",
       "9. 10.5\n",
       "10. 8\n",
       "11. 8\n",
       "12. 2\n",
       "13. 0\n",
       "14. 0\n",
       "15. 8\n",
       "16. 8\n",
       "17. 12\n",
       "18. 9\n",
       "19. 2\n",
       "20. 0\n",
       "21. 0\n",
       "22. 8\n",
       "23. 8\n",
       "24. 9\n",
       "25. 11.5\n",
       "26. 2\n",
       "27. 0\n",
       "28. 0\n",
       "29. 2\n",
       "30. 2\n",
       "31. 2\n",
       "32. 2\n",
       "33. 12.25\n",
       "34. 0\n",
       "35. 0\n",
       "36. 0\n",
       "37. 0\n",
       "38. 0\n",
       "39. 0\n",
       "40. 0\n",
       "41. 9.5\n",
       "42. 3\n",
       "43. 0\n",
       "44. 0\n",
       "45. 0\n",
       "46. 0\n",
       "47. 0\n",
       "48. 3\n",
       "49. 11.25\n",
       "\n",
       "\n",
       "\n",
       "\n",
       "\n"
      ],
      "text/plain": [
       "$mean\n",
       "      [,1]\n",
       "[1,] 11.00\n",
       "[2,] 10.50\n",
       "[3,] 12.00\n",
       "[4,] 11.50\n",
       "[5,] 12.25\n",
       "[6,]  9.50\n",
       "[7,] 11.25\n",
       "\n",
       "$Sigma\n",
       "     [,1] [,2] [,3] [,4]  [,5] [,6]  [,7]\n",
       "[1,]   11 10.0    8  8.0  2.00  0.0  0.00\n",
       "[2,]   10 10.5    8  8.0  2.00  0.0  0.00\n",
       "[3,]    8  8.0   12  9.0  2.00  0.0  0.00\n",
       "[4,]    8  8.0    9 11.5  2.00  0.0  0.00\n",
       "[5,]    2  2.0    2  2.0 12.25  0.0  0.00\n",
       "[6,]    0  0.0    0  0.0  0.00  9.5  3.00\n",
       "[7,]    0  0.0    0  0.0  0.00  3.0 11.25\n"
      ]
     },
     "execution_count": 257,
     "metadata": {},
     "output_type": "execute_result"
    },
    {
     "data": {
      "text/html": [
       "48.7128676509259"
      ],
      "text/latex": [
       "48.7128676509259"
      ],
      "text/markdown": [
       "48.7128676509259"
      ],
      "text/plain": [
       "[1] 48.71287"
      ]
     },
     "execution_count": 257,
     "metadata": {},
     "output_type": "execute_result"
    }
   ],
   "source": [
    "distribution <- getTipDistribution(modelBM, c(0,0,1,1))\n",
    "distribution\n",
    "likelihood <- getDataLikelihood(modelBM, dataBM, c(0,0,1,1))\n",
    "likelihood"
   ]
  },
  {
   "cell_type": "markdown",
   "metadata": {},
   "source": [
    "\\subsection{Maximum likelihood estimation of parameters}\n",
    "\n",
    "We can now use the method \\texttt{fitTipData} that uses the latter two methods to find the set of parameters that minimizes -ln(likelihood) for a given model, on a given data set. We will apply this method to the datasets that we simulated, in order to compare the maximum likelihood estimators with the parameters used in the simulation.\n",
    "\n",
    "Note that this function accepts a third, optional, parameter, that is the starting vector 'params0' given to optimize the likelihood. If no value is specified, the function takes the attribute 'params0' defined in all \\texttt{PhenotypicModel} objects."
   ]
  },
  {
   "cell_type": "code",
   "execution_count": 258,
   "metadata": {
    "collapsed": false
   },
   "outputs": [
    {
     "name": "stdout",
     "output_type": "stream",
     "text": [
      "*** Fit of tip trait data ***\n",
      "Finding the maximum likelihood estimator of the parameters, before returning the likelihood and the inferred parameters...\n",
      "Computation time : 0.04078507 secs \n"
     ]
    },
    {
     "data": {
      "text/html": [
       "<dl>\n",
       "\t<dt>$value</dt>\n",
       "\t\t<dd>16.5394505892154</dd>\n",
       "\t<dt>$inferredParams</dt>\n",
       "\t\t<dd><dl class=dl-horizontal>\n",
       "\t<dt>m0</dt>\n",
       "\t\t<dd>-9.6066841897864</dd>\n",
       "\t<dt>v0</dt>\n",
       "\t\t<dd>8.97511401676335e-08</dd>\n",
       "\t<dt>d</dt>\n",
       "\t\t<dd>0.557074392406554</dd>\n",
       "\t<dt>sigma</dt>\n",
       "\t\t<dd>1.0452485112109</dd>\n",
       "</dl>\n",
       "</dd>\n",
       "</dl>\n"
      ],
      "text/latex": [
       "\\begin{description}\n",
       "\\item[\\$value] 16.5394505892154\n",
       "\\item[\\$inferredParams] \\begin{description*}\n",
       "\\item[m0] -9.6066841897864\n",
       "\\item[v0] 8.97511401676335e-08\n",
       "\\item[d] 0.557074392406554\n",
       "\\item[sigma] 1.0452485112109\n",
       "\\end{description*}\n",
       "\n",
       "\\end{description}\n"
      ],
      "text/markdown": [
       "$value\n",
       ":   16.5394505892154\n",
       "$inferredParams\n",
       ":   m0\n",
       ":   -9.6066841897864v0\n",
       ":   8.97511401676335e-08d\n",
       ":   0.557074392406554sigma\n",
       ":   1.0452485112109\n",
       "\n",
       "\n",
       "\n",
       "\n"
      ],
      "text/plain": [
       "$value\n",
       "[1] 16.53945\n",
       "\n",
       "$inferredParams\n",
       "           m0            v0             d         sigma \n",
       "-9.606684e+00  8.975114e-08  5.570744e-01  1.045249e+00 \n"
      ]
     },
     "execution_count": 258,
     "metadata": {},
     "output_type": "execute_result"
    }
   ],
   "source": [
    "fitBM <- fitTipData(modelBM, dataBM)\n",
    "fitBM"
   ]
  },
  {
   "cell_type": "code",
   "execution_count": 259,
   "metadata": {
    "collapsed": false
   },
   "outputs": [
    {
     "name": "stdout",
     "output_type": "stream",
     "text": [
      "*** Fit of tip trait data ***\n",
      "Finding the maximum likelihood estimator of the parameters, before returning the likelihood and the inferred parameters...\n",
      "Computation time : 0.1478863 secs \n"
     ]
    },
    {
     "data": {
      "text/html": [
       "<dl>\n",
       "\t<dt>$value</dt>\n",
       "\t\t<dd>2.49127963627373</dd>\n",
       "\t<dt>$inferredParams</dt>\n",
       "\t\t<dd><dl class=dl-horizontal>\n",
       "\t<dt>mean0</dt>\n",
       "\t\t<dd>6.19605590613104</dd>\n",
       "\t<dt>var0</dt>\n",
       "\t\t<dd>1.32011950397384</dd>\n",
       "\t<dt>selectionStrength</dt>\n",
       "\t\t<dd>0.010914092956682</dd>\n",
       "\t<dt>equilibrium</dt>\n",
       "\t\t<dd>-5.50464040331449</dd>\n",
       "\t<dt>noise</dt>\n",
       "\t\t<dd>0.12071253522351</dd>\n",
       "</dl>\n",
       "</dd>\n",
       "</dl>\n"
      ],
      "text/latex": [
       "\\begin{description}\n",
       "\\item[\\$value] 2.49127963627373\n",
       "\\item[\\$inferredParams] \\begin{description*}\n",
       "\\item[mean0] 6.19605590613104\n",
       "\\item[var0] 1.32011950397384\n",
       "\\item[selectionStrength] 0.010914092956682\n",
       "\\item[equilibrium] -5.50464040331449\n",
       "\\item[noise] 0.12071253522351\n",
       "\\end{description*}\n",
       "\n",
       "\\end{description}\n"
      ],
      "text/markdown": [
       "$value\n",
       ":   2.49127963627373\n",
       "$inferredParams\n",
       ":   mean0\n",
       ":   6.19605590613104var0\n",
       ":   1.32011950397384selectionStrength\n",
       ":   0.010914092956682equilibrium\n",
       ":   -5.50464040331449noise\n",
       ":   0.12071253522351\n",
       "\n",
       "\n",
       "\n",
       "\n"
      ],
      "text/plain": [
       "$value\n",
       "[1] 2.49128\n",
       "\n",
       "$inferredParams\n",
       "            mean0              var0 selectionStrength       equilibrium \n",
       "       6.19605591        1.32011950        0.01091409       -5.50464040 \n",
       "            noise \n",
       "       0.12071254 \n"
      ]
     },
     "execution_count": 259,
     "metadata": {},
     "output_type": "execute_result"
    }
   ],
   "source": [
    "fitOU <- fitTipData(modelOU, dataOU)\n",
    "fitOU"
   ]
  },
  {
   "cell_type": "markdown",
   "metadata": {
    "collapsed": true
   },
   "source": [
    "It doesn't seem quite good, but it also seems like the choice in the starting parameters $m_0, v_0$ has a bad influence. We thus create two new models 'BM_from0' and 'OU_from0' with the subtle difference that $(m_0, v_0) = (0,0)$ and the models thus retain respectively only two and three parameters.\n",
    "\n",
    "These two models are included in the 'ModelBank' file."
   ]
  },
  {
   "cell_type": "code",
   "execution_count": 260,
   "metadata": {
    "collapsed": false
   },
   "outputs": [
    {
     "data": {
      "text/plain": [
       "****************************************************************\n",
       "*** Object of Class PhenotypicModel *** \n",
       "*** Name of the model : [1] \"BM_from0\"\n",
       "*** Parameters of the model : [1] \"d\"     \"sigma\"\n",
       "*** Description : Brownian Motion model with linear drift.\n",
       "Starts with two lineages having the same value X_0 = (0,0).\n",
       "One trait in each lineage, all lineages evolving independently after branching.\n",
       "dX_t = d dt + sigma dW_t\n",
       "*** Periods : the model is cut into  13  parts. \n",
       "For more details on the model, call : print(PhenotypicModel)\n",
       "****************************************************************"
      ]
     },
     "execution_count": 260,
     "metadata": {},
     "output_type": "execute_result"
    }
   ],
   "source": [
    "modelBMfromZero <- createModel(tree, 'BM_from0')\n",
    "modelBMfromZero"
   ]
  },
  {
   "cell_type": "code",
   "execution_count": 261,
   "metadata": {
    "collapsed": false
   },
   "outputs": [
    {
     "data": {
      "text/plain": [
       "****************************************************************\n",
       "*** Object of Class PhenotypicModel *** \n",
       "*** Name of the model : [1] \"OU_from0\"\n",
       "*** Parameters of the model : [1] \"psi\"   \"theta\" \"sigma\"\n",
       "*** Description : Ornstein-Uhlenbeck model.\n",
       "Starts with two lineages having the same value X_0 = (0,0).\n",
       "One trait in each lineage, all lineages evolving independently after branching.\n",
       "dX_t = psi(theta- X_t) dt + sigma dW_t\n",
       "*** Periods : the model is cut into  13  parts. \n",
       "For more details on the model, call : print(PhenotypicModel)\n",
       "****************************************************************"
      ]
     },
     "execution_count": 261,
     "metadata": {},
     "output_type": "execute_result"
    }
   ],
   "source": [
    "modelOUfromZero <- createModel(tree, 'OU_from0')\n",
    "modelOUfromZero"
   ]
  },
  {
   "cell_type": "code",
   "execution_count": 262,
   "metadata": {
    "collapsed": false
   },
   "outputs": [
    {
     "name": "stdout",
     "output_type": "stream",
     "text": [
      "*** Fit of tip trait data ***\n",
      "Finding the maximum likelihood estimator of the parameters, before returning the likelihood and the inferred parameters...\n",
      "Computation time : 0.005785227 secs \n",
      "*** Fit of tip trait data ***\n",
      "Finding the maximum likelihood estimator of the parameters, before returning the likelihood and the inferred parameters...\n",
      "Computation time : 0.1486299 secs \n"
     ]
    },
    {
     "data": {
      "text/html": [
       "<dl>\n",
       "\t<dt>$value</dt>\n",
       "\t\t<dd>16.8217738999321</dd>\n",
       "\t<dt>$inferredParams</dt>\n",
       "\t\t<dd><dl class=dl-horizontal>\n",
       "\t<dt>d</dt>\n",
       "\t\t<dd>-0.288881888648029</dd>\n",
       "\t<dt>sigma</dt>\n",
       "\t\t<dd>1.06265216853935</dd>\n",
       "</dl>\n",
       "</dd>\n",
       "</dl>\n"
      ],
      "text/latex": [
       "\\begin{description}\n",
       "\\item[\\$value] 16.8217738999321\n",
       "\\item[\\$inferredParams] \\begin{description*}\n",
       "\\item[d] -0.288881888648029\n",
       "\\item[sigma] 1.06265216853935\n",
       "\\end{description*}\n",
       "\n",
       "\\end{description}\n"
      ],
      "text/markdown": [
       "$value\n",
       ":   16.8217738999321\n",
       "$inferredParams\n",
       ":   d\n",
       ":   -0.288881888648029sigma\n",
       ":   1.06265216853935\n",
       "\n",
       "\n",
       "\n",
       "\n"
      ],
      "text/plain": [
       "$value\n",
       "[1] 16.82177\n",
       "\n",
       "$inferredParams\n",
       "         d      sigma \n",
       "-0.2888819  1.0626522 \n"
      ]
     },
     "execution_count": 262,
     "metadata": {},
     "output_type": "execute_result"
    },
    {
     "data": {
      "text/html": [
       "<dl>\n",
       "\t<dt>$value</dt>\n",
       "\t\t<dd>6.16347927804996</dd>\n",
       "\t<dt>$inferredParams</dt>\n",
       "\t\t<dd><dl class=dl-horizontal>\n",
       "\t<dt>psi</dt>\n",
       "\t\t<dd>-0.0040303073509095</dd>\n",
       "\t<dt>theta</dt>\n",
       "\t\t<dd>-104.5148700759</dd>\n",
       "\t<dt>sigma</dt>\n",
       "\t\t<dd>0.229874512075501</dd>\n",
       "</dl>\n",
       "</dd>\n",
       "</dl>\n"
      ],
      "text/latex": [
       "\\begin{description}\n",
       "\\item[\\$value] 6.16347927804996\n",
       "\\item[\\$inferredParams] \\begin{description*}\n",
       "\\item[psi] -0.0040303073509095\n",
       "\\item[theta] -104.5148700759\n",
       "\\item[sigma] 0.229874512075501\n",
       "\\end{description*}\n",
       "\n",
       "\\end{description}\n"
      ],
      "text/markdown": [
       "$value\n",
       ":   6.16347927804996\n",
       "$inferredParams\n",
       ":   psi\n",
       ":   -0.0040303073509095theta\n",
       ":   -104.5148700759sigma\n",
       ":   0.229874512075501\n",
       "\n",
       "\n",
       "\n",
       "\n"
      ],
      "text/plain": [
       "$value\n",
       "[1] 6.163479\n",
       "\n",
       "$inferredParams\n",
       "          psi         theta         sigma \n",
       "-4.030307e-03 -1.045149e+02  2.298745e-01 \n"
      ]
     },
     "execution_count": 262,
     "metadata": {},
     "output_type": "execute_result"
    }
   ],
   "source": [
    "fitBMfromZero <- fitTipData(modelBMfromZero, dataBM)\n",
    "fitOUfromZero <- fitTipData(modelOUfromZero, dataOU)\n",
    "fitBMfromZero\n",
    "fitOUfromZero"
   ]
  },
  {
   "cell_type": "markdown",
   "metadata": {},
   "source": [
    "We would like here to warn users about the use of the \\texttt{fitTipData} method. The optimizers sometimes seems to be attracted to a wrong region in the parameter space. Starting the optimization with different parameter sets might be the best practice to comfort the results.\n",
    "\n",
    "For example, here, starting with another initial parameter set doesn't lead to the best likelihood optimization."
   ]
  },
  {
   "cell_type": "code",
   "execution_count": 263,
   "metadata": {
    "collapsed": false
   },
   "outputs": [
    {
     "data": {
      "text/html": [
       "4.3716852851281"
      ],
      "text/latex": [
       "4.3716852851281"
      ],
      "text/markdown": [
       "4.3716852851281"
      ],
      "text/plain": [
       "[1] 4.371685"
      ]
     },
     "execution_count": 263,
     "metadata": {},
     "output_type": "execute_result"
    }
   ],
   "source": [
    "getDataLikelihood(modelOUfromZero, dataOU, c(1,5,1))"
   ]
  },
  {
   "cell_type": "code",
   "execution_count": 264,
   "metadata": {
    "collapsed": false
   },
   "outputs": [
    {
     "name": "stdout",
     "output_type": "stream",
     "text": [
      "*** Fit of tip trait data ***\n",
      "Finding the maximum likelihood estimator of the parameters, before returning the likelihood and the inferred parameters...\n",
      "Computation time : 0.07726359 secs \n"
     ]
    },
    {
     "data": {
      "text/html": [
       "<dl>\n",
       "\t<dt>$value</dt>\n",
       "\t\t<dd>-0.674067167123091</dd>\n",
       "\t<dt>$inferredParams</dt>\n",
       "\t\t<dd><dl class=dl-horizontal>\n",
       "\t<dt>psi</dt>\n",
       "\t\t<dd>7.95139512445822</dd>\n",
       "\t<dt>theta</dt>\n",
       "\t\t<dd>4.92361202992537</dd>\n",
       "\t<dt>sigma</dt>\n",
       "\t\t<dd>0.87630497716501</dd>\n",
       "</dl>\n",
       "</dd>\n",
       "</dl>\n"
      ],
      "text/latex": [
       "\\begin{description}\n",
       "\\item[\\$value] -0.674067167123091\n",
       "\\item[\\$inferredParams] \\begin{description*}\n",
       "\\item[psi] 7.95139512445822\n",
       "\\item[theta] 4.92361202992537\n",
       "\\item[sigma] 0.87630497716501\n",
       "\\end{description*}\n",
       "\n",
       "\\end{description}\n"
      ],
      "text/markdown": [
       "$value\n",
       ":   -0.674067167123091\n",
       "$inferredParams\n",
       ":   psi\n",
       ":   7.95139512445822theta\n",
       ":   4.92361202992537sigma\n",
       ":   0.87630497716501\n",
       "\n",
       "\n",
       "\n",
       "\n"
      ],
      "text/plain": [
       "$value\n",
       "[1] -0.6740672\n",
       "\n",
       "$inferredParams\n",
       "     psi    theta    sigma \n",
       "7.951395 4.923612 0.876305 \n"
      ]
     },
     "execution_count": 264,
     "metadata": {},
     "output_type": "execute_result"
    }
   ],
   "source": [
    "fitOUfromZero <- fitTipData(modelOUfromZero, dataOU, c(1,5,1))\n",
    "fitOUfromZero"
   ]
  },
  {
   "cell_type": "markdown",
   "metadata": {
    "collapsed": true
   },
   "source": [
    "\\clearpage\n",
    "\\section{Toward a more in-depth understanding of the code}\n",
    "\n",
    "\\subsection{Relationships between the different classes of models}\n",
    "\n",
    "This section can be skipped if you are not interested in using this framework to build your own model. Otherwise, it is worth understanding how the different models relate to each others.\n",
    "\n",
    "The mother and most general class, for which all the above-mentionned functions are defined, is the \\texttt{PhenotypicModel} class. When a model is \"only\" known as a \\texttt{PhenotypicModel}, the method that computes the tip distribution, namely \\texttt{getTipDistribution} is the most general one. It thus computes the distribution by resolving numerically an ODE system, which takes a lot of time.\n",
    "\n",
    "However, faster algorithms exist to compute the tip distribution for some particular types of models (see recap table in the main text). This is the reason why we chose to define four daughter-classes :\n",
    "\\begin{description}\n",
    "\\item[PhenotypicBM] For Brownian models.\n",
    "\\item[PhenotypicOU] For Ornstein-Uhlenbeck models.\n",
    "\\item[PhenotypicEB] For Early-Burst models.\n",
    "\\item[PhenotypicADiag] Models for which, $\\forall i, A_i$ is symmetric and $\\Gamma_i = \\sigma I$.\n",
    "\\end{description}\n",
    "\n",
    "For each of these daughter-classes, a new, more appropriated, function \\texttt{getTipDistribution} has been written. \\texttt{PhenotypicModels} which are also \\texttt{PhenotypicOU}, will preferentially use methods defined for \\texttt{PhenotypicOU} when they exist.\n",
    "\n",
    "\\subsection{Application : three different ways to define an OU}\n",
    "\n",
    "In the \\texttt{createModel} function, the keyword 'OU' constructs a model in the class \\texttt{PhenotypicOU}. In this class, the function \\texttt{getTipDistribution} uses the analytical formula to speed up the computation of $m$ and $\\Sigma$.\n",
    "\n",
    "Alternatively, the keyword 'OUbis' defines the exact same model, but as an instance of the class \\texttt{PhenotypicADiag}. Thus, the function \\texttt{getTipDistribution} uses the semi-integrated formula to compute $m$ and $\\Sigma$.\n",
    "\n",
    "Last, the keyword 'OUter' still defines the exact same model, but as an instance of the class \\texttt{PhenotypicModel}. Thus, the function \\texttt{getTipDistribution} uses the resolution of the ODE system to compute $m$ and $\\Sigma$.\n",
    "\n",
    "We will see here that the function returns the same value with the three different methods, and that the use of the analytical formula speeds up drastically the computation time."
   ]
  },
  {
   "cell_type": "code",
   "execution_count": 265,
   "metadata": {
    "collapsed": false
   },
   "outputs": [
    {
     "data": {
      "text/plain": [
       "****************************************************************\n",
       "*** Object of Class PhenotypicModel *** \n",
       "*** Name of the model : [1] \"OU\"\n",
       "*** Parameters of the model : [1] \"m0\"    \"v0\"    \"psi\"   \"theta\" \"sigma\"\n",
       "*** Description : Ornstein-Uhlenbeck model.\n",
       "Starts with two lineages having the same value X_0 ~ Normal(m0,v0).\n",
       "One trait in each lineage, all lineages evolving independently after branching.\n",
       "dX_t = psi(theta- X_t) dt + sigma dW_t\n",
       "*** Periods : the model is cut into  13  parts. \n",
       "For more details on the model, call : print(PhenotypicModel)\n",
       "****************************************************************"
      ]
     },
     "execution_count": 265,
     "metadata": {},
     "output_type": "execute_result"
    },
    {
     "data": {
      "text/plain": [
       "****************************************************************\n",
       "*** Object of Class PhenotypicModel *** \n",
       "*** Name of the model : [1] \"OUbis\"\n",
       "*** Parameters of the model : [1] \"m0\"    \"v0\"    \"psi\"   \"theta\" \"sigma\"\n",
       "*** Description : Ornstein-Uhlenbeck model.\n",
       "Starts with two lineages having the same value X_0 ~ Normal(m0,v0).\n",
       "One trait in each lineage, all lineages evolving independently after branching.\n",
       "dX_t = psi(theta- X_t) dt + sigma dW_t\n",
       "*** Periods : the model is cut into  13  parts. \n",
       "For more details on the model, call : print(PhenotypicModel)\n",
       "****************************************************************"
      ]
     },
     "execution_count": 265,
     "metadata": {},
     "output_type": "execute_result"
    },
    {
     "data": {
      "text/plain": [
       "****************************************************************\n",
       "*** Object of Class PhenotypicModel *** \n",
       "*** Name of the model : [1] \"OUter\"\n",
       "*** Parameters of the model : [1] \"m0\"    \"v0\"    \"psi\"   \"theta\" \"sigma\"\n",
       "*** Description : Ornstein-Uhlenbeck model.\n",
       "Starts with two lineages having the same value X_0 ~ Normal(m0,v0).\n",
       "One trait in each lineage, all lineages evolving independently after branching.\n",
       "dX_t = psi(theta- X_t) dt + sigma dW_t\n",
       "*** Periods : the model is cut into  13  parts. \n",
       "For more details on the model, call : print(PhenotypicModel)\n",
       "****************************************************************"
      ]
     },
     "execution_count": 265,
     "metadata": {},
     "output_type": "execute_result"
    }
   ],
   "source": [
    "modelOU <- createModel(tree, 'OU')\n",
    "modelOU\n",
    "modelOUbis <- createModel(tree, 'OUbis')\n",
    "modelOUbis\n",
    "modelOUter <- createModel(tree, 'OUter')\n",
    "modelOUter"
   ]
  },
  {
   "cell_type": "code",
   "execution_count": 266,
   "metadata": {
    "collapsed": false
   },
   "outputs": [
    {
     "name": "stdout",
     "output_type": "stream",
     "text": [
      "*** Computation of tip traits distribution through the analytical formula for an Ornstein-Uhlenbeck process ***\n",
      "Computation time : 0.0003082752 secs \n"
     ]
    },
    {
     "data": {
      "text/html": [
       "<dl>\n",
       "\t<dt>$mean</dt>\n",
       "\t\t<dd><table>\n",
       "<tbody>\n",
       "\t<tr><td>0.8891968</td></tr>\n",
       "\t<tr><td>0.8775436</td></tr>\n",
       "\t<tr><td>0.909282</td></tr>\n",
       "\t<tr><td>0.8997412</td></tr>\n",
       "\t<tr><td>0.9137064</td></tr>\n",
       "\t<tr><td>0.8504314</td></tr>\n",
       "\t<tr><td>0.8946008</td></tr>\n",
       "</tbody>\n",
       "</table>\n",
       "</dd>\n",
       "\t<dt>$Sigma</dt>\n",
       "\t\t<dd><table>\n",
       "<tbody>\n",
       "\t<tr><td>9.8772266</td><td>7.2724966</td><td>2.3654513</td><td>2.6142280</td><td>0.1171813</td><td>0.0000000</td><td>0.0000000</td></tr>\n",
       "\t<tr><td>7.2724966</td><td>9.8500442</td><td>2.6142280</td><td>2.8891687</td><td>0.1295054</td><td>0.0000000</td><td>0.0000000</td></tr>\n",
       "\t<tr><td>2.36545128</td><td>2.61422796</td><td>9.91770253</td><td>3.23775807</td><td>0.09593997</td><td>0.00000000</td><td>0.00000000</td></tr>\n",
       "\t<tr><td>2.6142280</td><td>2.8891687</td><td>3.2377581</td><td>9.8994816</td><td>0.1060301</td><td>0.0000000</td><td>0.0000000</td></tr>\n",
       "\t<tr><td>0.11718135</td><td>0.12950541</td><td>0.09593997</td><td>0.10603007</td><td>9.92553417</td><td>0.00000000</td><td>0.00000000</td></tr>\n",
       "\t<tr><td>0.0000000</td><td>0.0000000</td><td>0.0000000</td><td>0.0000000</td><td>0.0000000</td><td>9.7762923</td><td>0.3657529</td></tr>\n",
       "\t<tr><td>0.0000000</td><td>0.0000000</td><td>0.0000000</td><td>0.0000000</td><td>0.0000000</td><td>0.3657529</td><td>9.8889100</td></tr>\n",
       "</tbody>\n",
       "</table>\n",
       "</dd>\n",
       "</dl>\n"
      ],
      "text/latex": [
       "\\begin{description}\n",
       "\\item[\\$mean] \\begin{tabular}{l}\n",
       "\t 0.8891968\\\\\n",
       "\t 0.8775436\\\\\n",
       "\t 0.909282\\\\\n",
       "\t 0.8997412\\\\\n",
       "\t 0.9137064\\\\\n",
       "\t 0.8504314\\\\\n",
       "\t 0.8946008\\\\\n",
       "\\end{tabular}\n",
       "\n",
       "\\item[\\$Sigma] \\begin{tabular}{lllllll}\n",
       "\t 9.8772266 & 7.2724966 & 2.3654513 & 2.6142280 & 0.1171813 & 0.0000000 & 0.0000000\\\\\n",
       "\t 7.2724966 & 9.8500442 & 2.6142280 & 2.8891687 & 0.1295054 & 0.0000000 & 0.0000000\\\\\n",
       "\t 2.36545128 & 2.61422796 & 9.91770253 & 3.23775807 & 0.09593997 & 0.00000000 & 0.00000000\\\\\n",
       "\t 2.6142280 & 2.8891687 & 3.2377581 & 9.8994816 & 0.1060301 & 0.0000000 & 0.0000000\\\\\n",
       "\t 0.11718135 & 0.12950541 & 0.09593997 & 0.10603007 & 9.92553417 & 0.00000000 & 0.00000000\\\\\n",
       "\t 0.0000000 & 0.0000000 & 0.0000000 & 0.0000000 & 0.0000000 & 9.7762923 & 0.3657529\\\\\n",
       "\t 0.0000000 & 0.0000000 & 0.0000000 & 0.0000000 & 0.0000000 & 0.3657529 & 9.8889100\\\\\n",
       "\\end{tabular}\n",
       "\n",
       "\\end{description}\n"
      ],
      "text/markdown": [
       "$mean\n",
       ":   1. 0.889196841637666\n",
       "2. 0.877543571747018\n",
       "3. 0.909282046710588\n",
       "4. 0.899741156277196\n",
       "5. 0.91370641350063\n",
       "6. 0.850431380777365\n",
       "7. 0.894600775438136\n",
       "\n",
       "\n",
       "\n",
       "$Sigma\n",
       ":   1. 9.87722660096932\n",
       "2. 7.27249661669517\n",
       "3. 2.36545128196973\n",
       "4. 2.6142279649577\n",
       "5. 0.117181345078337\n",
       "6. 0\n",
       "7. 0\n",
       "8. 7.27249661669517\n",
       "9. 9.85004423179522\n",
       "10. 2.6142279649577\n",
       "11. 2.88916872009134\n",
       "12. 0.129505414721565\n",
       "13. 0\n",
       "14. 0\n",
       "15. 2.36545128196973\n",
       "16. 2.6142279649577\n",
       "17. 9.9177025295098\n",
       "18. 3.23775806596384\n",
       "19. 0.0959399709026774\n",
       "20. 0\n",
       "21. 0\n",
       "22. 2.6142279649577\n",
       "23. 2.88916872009134\n",
       "24. 3.23775806596384\n",
       "25. 9.89948164255366\n",
       "26. 0.106030065722663\n",
       "27. 0\n",
       "28. 0\n",
       "29. 0.117181345078337\n",
       "30. 0.129505414721565\n",
       "31. 0.0959399709026774\n",
       "32. 0.106030065722663\n",
       "33. 9.92553416929076\n",
       "34. 0\n",
       "35. 0\n",
       "36. 0\n",
       "37. 0\n",
       "38. 0\n",
       "39. 0\n",
       "40. 0\n",
       "41. 9.77629228143834\n",
       "42. 0.365752894635779\n",
       "43. 0\n",
       "44. 0\n",
       "45. 0\n",
       "46. 0\n",
       "47. 0\n",
       "48. 0.365752894635779\n",
       "49. 9.88891003461758\n",
       "\n",
       "\n",
       "\n",
       "\n",
       "\n"
      ],
      "text/plain": [
       "$mean\n",
       "          [,1]\n",
       "[1,] 0.8891968\n",
       "[2,] 0.8775436\n",
       "[3,] 0.9092820\n",
       "[4,] 0.8997412\n",
       "[5,] 0.9137064\n",
       "[6,] 0.8504314\n",
       "[7,] 0.8946008\n",
       "\n",
       "$Sigma\n",
       "          [,1]      [,2]       [,3]      [,4]       [,5]      [,6]      [,7]\n",
       "[1,] 9.8772266 7.2724966 2.36545128 2.6142280 0.11718135 0.0000000 0.0000000\n",
       "[2,] 7.2724966 9.8500442 2.61422796 2.8891687 0.12950541 0.0000000 0.0000000\n",
       "[3,] 2.3654513 2.6142280 9.91770253 3.2377581 0.09593997 0.0000000 0.0000000\n",
       "[4,] 2.6142280 2.8891687 3.23775807 9.8994816 0.10603007 0.0000000 0.0000000\n",
       "[5,] 0.1171813 0.1295054 0.09593997 0.1060301 9.92553417 0.0000000 0.0000000\n",
       "[6,] 0.0000000 0.0000000 0.00000000 0.0000000 0.00000000 9.7762923 0.3657529\n",
       "[7,] 0.0000000 0.0000000 0.00000000 0.0000000 0.00000000 0.3657529 9.8889100\n"
      ]
     },
     "execution_count": 266,
     "metadata": {},
     "output_type": "execute_result"
    },
    {
     "name": "stdout",
     "output_type": "stream",
     "text": [
      "*** Computation of tip traits distribution through integrated formula ***\n",
      "(Method working for models with a constant, A diagonalizable, and Gamma constant)\n",
      "Computation time : 0.004669666 secs \n"
     ]
    },
    {
     "data": {
      "text/html": [
       "<dl>\n",
       "\t<dt>$mean</dt>\n",
       "\t\t<dd><table>\n",
       "<tbody>\n",
       "\t<tr><td>0.8891968</td></tr>\n",
       "\t<tr><td>0.8775436</td></tr>\n",
       "\t<tr><td>0.909282</td></tr>\n",
       "\t<tr><td>0.8997412</td></tr>\n",
       "\t<tr><td>0.9137064</td></tr>\n",
       "\t<tr><td>0.8504314</td></tr>\n",
       "\t<tr><td>0.8946008</td></tr>\n",
       "</tbody>\n",
       "</table>\n",
       "</dd>\n",
       "\t<dt>$Sigma</dt>\n",
       "\t\t<dd><table>\n",
       "<tbody>\n",
       "\t<tr><td>9.8772266</td><td>7.2724966</td><td>2.3654513</td><td>2.6142280</td><td>0.1171813</td><td>0.0000000</td><td>0.0000000</td></tr>\n",
       "\t<tr><td>7.2724966</td><td>9.8500442</td><td>2.6142280</td><td>2.8891687</td><td>0.1295054</td><td>0.0000000</td><td>0.0000000</td></tr>\n",
       "\t<tr><td>2.36545128</td><td>2.61422796</td><td>9.91770253</td><td>3.23775807</td><td>0.09593997</td><td>0.00000000</td><td>0.00000000</td></tr>\n",
       "\t<tr><td>2.6142280</td><td>2.8891687</td><td>3.2377581</td><td>9.8994816</td><td>0.1060301</td><td>0.0000000</td><td>0.0000000</td></tr>\n",
       "\t<tr><td>0.11718135</td><td>0.12950541</td><td>0.09593997</td><td>0.10603007</td><td>9.92553417</td><td>0.00000000</td><td>0.00000000</td></tr>\n",
       "\t<tr><td>0.0000000</td><td>0.0000000</td><td>0.0000000</td><td>0.0000000</td><td>0.0000000</td><td>9.7762923</td><td>0.3657529</td></tr>\n",
       "\t<tr><td>0.0000000</td><td>0.0000000</td><td>0.0000000</td><td>0.0000000</td><td>0.0000000</td><td>0.3657529</td><td>9.8889100</td></tr>\n",
       "</tbody>\n",
       "</table>\n",
       "</dd>\n",
       "</dl>\n"
      ],
      "text/latex": [
       "\\begin{description}\n",
       "\\item[\\$mean] \\begin{tabular}{l}\n",
       "\t 0.8891968\\\\\n",
       "\t 0.8775436\\\\\n",
       "\t 0.909282\\\\\n",
       "\t 0.8997412\\\\\n",
       "\t 0.9137064\\\\\n",
       "\t 0.8504314\\\\\n",
       "\t 0.8946008\\\\\n",
       "\\end{tabular}\n",
       "\n",
       "\\item[\\$Sigma] \\begin{tabular}{lllllll}\n",
       "\t 9.8772266 & 7.2724966 & 2.3654513 & 2.6142280 & 0.1171813 & 0.0000000 & 0.0000000\\\\\n",
       "\t 7.2724966 & 9.8500442 & 2.6142280 & 2.8891687 & 0.1295054 & 0.0000000 & 0.0000000\\\\\n",
       "\t 2.36545128 & 2.61422796 & 9.91770253 & 3.23775807 & 0.09593997 & 0.00000000 & 0.00000000\\\\\n",
       "\t 2.6142280 & 2.8891687 & 3.2377581 & 9.8994816 & 0.1060301 & 0.0000000 & 0.0000000\\\\\n",
       "\t 0.11718135 & 0.12950541 & 0.09593997 & 0.10603007 & 9.92553417 & 0.00000000 & 0.00000000\\\\\n",
       "\t 0.0000000 & 0.0000000 & 0.0000000 & 0.0000000 & 0.0000000 & 9.7762923 & 0.3657529\\\\\n",
       "\t 0.0000000 & 0.0000000 & 0.0000000 & 0.0000000 & 0.0000000 & 0.3657529 & 9.8889100\\\\\n",
       "\\end{tabular}\n",
       "\n",
       "\\end{description}\n"
      ],
      "text/markdown": [
       "$mean\n",
       ":   1. 0.889196841637666\n",
       "2. 0.877543571747018\n",
       "3. 0.909282046710588\n",
       "4. 0.899741156277196\n",
       "5. 0.91370641350063\n",
       "6. 0.850431380777365\n",
       "7. 0.894600775438136\n",
       "\n",
       "\n",
       "\n",
       "$Sigma\n",
       ":   1. 9.87722660096931\n",
       "2. 7.27249661669517\n",
       "3. 2.36545128196973\n",
       "4. 2.6142279649577\n",
       "5. 0.117181345078337\n",
       "6. 0\n",
       "7. 0\n",
       "8. 7.27249661669517\n",
       "9. 9.85004423179522\n",
       "10. 2.6142279649577\n",
       "11. 2.88916872009133\n",
       "12. 0.129505414721564\n",
       "13. 0\n",
       "14. 0\n",
       "15. 2.36545128196973\n",
       "16. 2.6142279649577\n",
       "17. 9.9177025295098\n",
       "18. 3.23775806596383\n",
       "19. 0.0959399709026773\n",
       "20. 0\n",
       "21. 0\n",
       "22. 2.6142279649577\n",
       "23. 2.88916872009133\n",
       "24. 3.23775806596383\n",
       "25. 9.89948164255367\n",
       "26. 0.106030065722663\n",
       "27. 0\n",
       "28. 0\n",
       "29. 0.117181345078337\n",
       "30. 0.129505414721564\n",
       "31. 0.0959399709026773\n",
       "32. 0.106030065722663\n",
       "33. 9.92553416929076\n",
       "34. 0\n",
       "35. 0\n",
       "36. 0\n",
       "37. 0\n",
       "38. 0\n",
       "39. 0\n",
       "40. 0\n",
       "41. 9.77629228143834\n",
       "42. 0.365752894635779\n",
       "43. 0\n",
       "44. 0\n",
       "45. 0\n",
       "46. 0\n",
       "47. 0\n",
       "48. 0.365752894635779\n",
       "49. 9.88891003461758\n",
       "\n",
       "\n",
       "\n",
       "\n",
       "\n"
      ],
      "text/plain": [
       "$mean\n",
       "          [,1]\n",
       "[1,] 0.8891968\n",
       "[2,] 0.8775436\n",
       "[3,] 0.9092820\n",
       "[4,] 0.8997412\n",
       "[5,] 0.9137064\n",
       "[6,] 0.8504314\n",
       "[7,] 0.8946008\n",
       "\n",
       "$Sigma\n",
       "          [,1]      [,2]       [,3]      [,4]       [,5]      [,6]      [,7]\n",
       "[1,] 9.8772266 7.2724966 2.36545128 2.6142280 0.11718135 0.0000000 0.0000000\n",
       "[2,] 7.2724966 9.8500442 2.61422796 2.8891687 0.12950541 0.0000000 0.0000000\n",
       "[3,] 2.3654513 2.6142280 9.91770253 3.2377581 0.09593997 0.0000000 0.0000000\n",
       "[4,] 2.6142280 2.8891687 3.23775807 9.8994816 0.10603007 0.0000000 0.0000000\n",
       "[5,] 0.1171813 0.1295054 0.09593997 0.1060301 9.92553417 0.0000000 0.0000000\n",
       "[6,] 0.0000000 0.0000000 0.00000000 0.0000000 0.00000000 9.7762923 0.3657529\n",
       "[7,] 0.0000000 0.0000000 0.00000000 0.0000000 0.00000000 0.3657529 9.8889100\n"
      ]
     },
     "execution_count": 266,
     "metadata": {},
     "output_type": "execute_result"
    },
    {
     "name": "stdout",
     "output_type": "stream",
     "text": [
      "*** Computation of tip traits distribution through ODE resolution ***\n",
      "(Method working for any model)\n",
      "Computation time : 0.2495759 secs \n"
     ]
    },
    {
     "data": {
      "text/html": [
       "<dl>\n",
       "\t<dt>$mean</dt>\n",
       "\t\t<dd><table>\n",
       "<tbody>\n",
       "\t<tr><td>0.8891984</td></tr>\n",
       "\t<tr><td>0.8775447</td></tr>\n",
       "\t<tr><td>0.9092837</td></tr>\n",
       "\t<tr><td>0.8997429</td></tr>\n",
       "\t<tr><td>0.9137081</td></tr>\n",
       "\t<tr><td>0.8504309</td></tr>\n",
       "\t<tr><td>0.8946024</td></tr>\n",
       "</tbody>\n",
       "</table>\n",
       "</dd>\n",
       "\t<dt>$Sigma</dt>\n",
       "\t\t<dd><table>\n",
       "<tbody>\n",
       "\t<tr><td>9.8772243</td><td>7.2725143</td><td>2.3654834</td><td>2.6142593</td><td>0.1171837</td><td>0.0000000</td><td>0.0000000</td></tr>\n",
       "\t<tr><td>7.2725143</td><td>9.8500418</td><td>2.6142581</td><td>2.8891973</td><td>0.1295078</td><td>0.0000000</td><td>0.0000000</td></tr>\n",
       "\t<tr><td>2.36548343</td><td>2.61425810</td><td>9.91769978</td><td>3.23780799</td><td>0.09594306</td><td>0.00000000</td><td>0.00000000</td></tr>\n",
       "\t<tr><td>2.6142593</td><td>2.8891973</td><td>3.2378080</td><td>9.8994793</td><td>0.1060326</td><td>0.0000000</td><td>0.0000000</td></tr>\n",
       "\t<tr><td>0.11718371</td><td>0.12950776</td><td>0.09594306</td><td>0.10603262</td><td>9.92553239</td><td>0.00000000</td><td>0.00000000</td></tr>\n",
       "\t<tr><td>0.0000000</td><td>0.0000000</td><td>0.0000000</td><td>0.0000000</td><td>0.0000000</td><td>9.7762896</td><td>0.3657561</td></tr>\n",
       "\t<tr><td>0.0000000</td><td>0.0000000</td><td>0.0000000</td><td>0.0000000</td><td>0.0000000</td><td>0.3657561</td><td>9.8889077</td></tr>\n",
       "</tbody>\n",
       "</table>\n",
       "</dd>\n",
       "</dl>\n"
      ],
      "text/latex": [
       "\\begin{description}\n",
       "\\item[\\$mean] \\begin{tabular}{l}\n",
       "\t 0.8891984\\\\\n",
       "\t 0.8775447\\\\\n",
       "\t 0.9092837\\\\\n",
       "\t 0.8997429\\\\\n",
       "\t 0.9137081\\\\\n",
       "\t 0.8504309\\\\\n",
       "\t 0.8946024\\\\\n",
       "\\end{tabular}\n",
       "\n",
       "\\item[\\$Sigma] \\begin{tabular}{lllllll}\n",
       "\t 9.8772243 & 7.2725143 & 2.3654834 & 2.6142593 & 0.1171837 & 0.0000000 & 0.0000000\\\\\n",
       "\t 7.2725143 & 9.8500418 & 2.6142581 & 2.8891973 & 0.1295078 & 0.0000000 & 0.0000000\\\\\n",
       "\t 2.36548343 & 2.61425810 & 9.91769978 & 3.23780799 & 0.09594306 & 0.00000000 & 0.00000000\\\\\n",
       "\t 2.6142593 & 2.8891973 & 3.2378080 & 9.8994793 & 0.1060326 & 0.0000000 & 0.0000000\\\\\n",
       "\t 0.11718371 & 0.12950776 & 0.09594306 & 0.10603262 & 9.92553239 & 0.00000000 & 0.00000000\\\\\n",
       "\t 0.0000000 & 0.0000000 & 0.0000000 & 0.0000000 & 0.0000000 & 9.7762896 & 0.3657561\\\\\n",
       "\t 0.0000000 & 0.0000000 & 0.0000000 & 0.0000000 & 0.0000000 & 0.3657561 & 9.8889077\\\\\n",
       "\\end{tabular}\n",
       "\n",
       "\\end{description}\n"
      ],
      "text/markdown": [
       "$mean\n",
       ":   1. 0.889198426683919\n",
       "2. 0.877544724791904\n",
       "3. 0.909283695815283\n",
       "4. 0.899742875614299\n",
       "5. 0.913708137896454\n",
       "6. 0.850430887224337\n",
       "7. 0.894602429639649\n",
       "\n",
       "\n",
       "\n",
       "$Sigma\n",
       ":   1. 9.87722428296923\n",
       "2. 7.2725143097783\n",
       "3. 2.36548343130885\n",
       "4. 2.61425925386739\n",
       "5. 0.117183712524939\n",
       "6. 0\n",
       "7. 0\n",
       "8. 7.2725143097783\n",
       "9. 9.85004177517114\n",
       "10. 2.61425810461662\n",
       "11. 2.88919734187707\n",
       "12. 0.129507764097032\n",
       "13. 0\n",
       "14. 0\n",
       "15. 2.36548343130885\n",
       "16. 2.61425810461662\n",
       "17. 9.9176997790224\n",
       "18. 3.23780798829138\n",
       "19. 0.0959430620103252\n",
       "20. 0\n",
       "21. 0\n",
       "22. 2.61425925386739\n",
       "23. 2.88919734187707\n",
       "24. 3.23780798829138\n",
       "25. 9.89947926781372\n",
       "26. 0.106032615255013\n",
       "27. 0\n",
       "28. 0\n",
       "29. 0.117183712524939\n",
       "30. 0.129507764097032\n",
       "31. 0.0959430620103252\n",
       "32. 0.106032615255013\n",
       "33. 9.9255323895473\n",
       "34. 0\n",
       "35. 0\n",
       "36. 0\n",
       "37. 0\n",
       "38. 0\n",
       "39. 0\n",
       "40. 0\n",
       "41. 9.77628964012091\n",
       "42. 0.365756093995891\n",
       "43. 0\n",
       "44. 0\n",
       "45. 0\n",
       "46. 0\n",
       "47. 0\n",
       "48. 0.365756093995891\n",
       "49. 9.8889076762207\n",
       "\n",
       "\n",
       "\n",
       "\n",
       "\n"
      ],
      "text/plain": [
       "$mean\n",
       "          [,1]\n",
       "[1,] 0.8891984\n",
       "[2,] 0.8775447\n",
       "[3,] 0.9092837\n",
       "[4,] 0.8997429\n",
       "[5,] 0.9137081\n",
       "[6,] 0.8504309\n",
       "[7,] 0.8946024\n",
       "\n",
       "$Sigma\n",
       "          [,1]      [,2]       [,3]      [,4]       [,5]      [,6]      [,7]\n",
       "[1,] 9.8772243 7.2725143 2.36548343 2.6142593 0.11718371 0.0000000 0.0000000\n",
       "[2,] 7.2725143 9.8500418 2.61425810 2.8891973 0.12950776 0.0000000 0.0000000\n",
       "[3,] 2.3654834 2.6142581 9.91769978 3.2378080 0.09594306 0.0000000 0.0000000\n",
       "[4,] 2.6142593 2.8891973 3.23780799 9.8994793 0.10603262 0.0000000 0.0000000\n",
       "[5,] 0.1171837 0.1295078 0.09594306 0.1060326 9.92553239 0.0000000 0.0000000\n",
       "[6,] 0.0000000 0.0000000 0.00000000 0.0000000 0.00000000 9.7762896 0.3657561\n",
       "[7,] 0.0000000 0.0000000 0.00000000 0.0000000 0.00000000 0.3657561 9.8889077\n"
      ]
     },
     "execution_count": 266,
     "metadata": {},
     "output_type": "execute_result"
    }
   ],
   "source": [
    "params <- c(0,0,0.2,1,2)\n",
    "getTipDistribution(modelOU, params, TRUE)\n",
    "getTipDistribution(modelOUbis, params, TRUE)\n",
    "getTipDistribution(modelOUter, params, TRUE)"
   ]
  },
  {
   "cell_type": "code",
   "execution_count": 267,
   "metadata": {
    "collapsed": false
   },
   "outputs": [
    {
     "name": "stdout",
     "output_type": "stream",
     "text": [
      "*** Simulation of tip trait values ***\n",
      "Simulating step-by-step the whole trajectory of a realization of the model, before returning only the tip data...\n"
     ]
    },
    {
     "data": {
      "text/html": [
       "<table>\n",
       "<tbody>\n",
       "\t<tr><td>4.846639</td></tr>\n",
       "\t<tr><td>1.594712</td></tr>\n",
       "\t<tr><td>-0.06951463</td></tr>\n",
       "\t<tr><td>3.342713</td></tr>\n",
       "\t<tr><td>5.729854</td></tr>\n",
       "\t<tr><td>-1.402092</td></tr>\n",
       "\t<tr><td>2.915526</td></tr>\n",
       "</tbody>\n",
       "</table>\n"
      ],
      "text/latex": [
       "\\begin{tabular}{l}\n",
       "\t 4.846639\\\\\n",
       "\t 1.594712\\\\\n",
       "\t -0.06951463\\\\\n",
       "\t 3.342713\\\\\n",
       "\t 5.729854\\\\\n",
       "\t -1.402092\\\\\n",
       "\t 2.915526\\\\\n",
       "\\end{tabular}\n"
      ],
      "text/markdown": [
       "1. 4.84663884117243\n",
       "2. 1.59471212307773\n",
       "3. -0.0695146300128036\n",
       "4. 3.34271254461144\n",
       "5. 5.72985422870796\n",
       "6. -1.40209164186078\n",
       "7. 2.91552610598411\n",
       "\n",
       "\n"
      ],
      "text/plain": [
       "            [,1]\n",
       "[1,]  4.84663884\n",
       "[2,]  1.59471212\n",
       "[3,] -0.06951463\n",
       "[4,]  3.34271254\n",
       "[5,]  5.72985423\n",
       "[6,] -1.40209164\n",
       "[7,]  2.91552611"
      ]
     },
     "execution_count": 267,
     "metadata": {},
     "output_type": "execute_result"
    }
   ],
   "source": [
    "data <- simulateTipData(modelOU, c(0,0,0.2,1,2))\n",
    "data"
   ]
  },
  {
   "cell_type": "code",
   "execution_count": 268,
   "metadata": {
    "collapsed": false
   },
   "outputs": [
    {
     "name": "stdout",
     "output_type": "stream",
     "text": [
      "*** Fit of tip trait data ***\n",
      "Finding the maximum likelihood estimator of the parameters, before returning the likelihood and the inferred parameters...\n",
      "Computation time : 0.1412208 secs \n"
     ]
    },
    {
     "data": {
      "text/html": [
       "<dl>\n",
       "\t<dt>$value</dt>\n",
       "\t\t<dd>15.9834936602653</dd>\n",
       "\t<dt>$inferredParams</dt>\n",
       "\t\t<dd><dl class=dl-horizontal>\n",
       "\t<dt>m0</dt>\n",
       "\t\t<dd>-14.6963223305121</dd>\n",
       "\t<dt>v0</dt>\n",
       "\t\t<dd>27.6381197978155</dd>\n",
       "\t<dt>psi</dt>\n",
       "\t\t<dd>4.00243741010119</dd>\n",
       "\t<dt>theta</dt>\n",
       "\t\t<dd>2.41049363492484</dd>\n",
       "\t<dt>sigma</dt>\n",
       "\t\t<dd>6.71430144973741</dd>\n",
       "</dl>\n",
       "</dd>\n",
       "</dl>\n"
      ],
      "text/latex": [
       "\\begin{description}\n",
       "\\item[\\$value] 15.9834936602653\n",
       "\\item[\\$inferredParams] \\begin{description*}\n",
       "\\item[m0] -14.6963223305121\n",
       "\\item[v0] 27.6381197978155\n",
       "\\item[psi] 4.00243741010119\n",
       "\\item[theta] 2.41049363492484\n",
       "\\item[sigma] 6.71430144973741\n",
       "\\end{description*}\n",
       "\n",
       "\\end{description}\n"
      ],
      "text/markdown": [
       "$value\n",
       ":   15.9834936602653\n",
       "$inferredParams\n",
       ":   m0\n",
       ":   -14.6963223305121v0\n",
       ":   27.6381197978155psi\n",
       ":   4.00243741010119theta\n",
       ":   2.41049363492484sigma\n",
       ":   6.71430144973741\n",
       "\n",
       "\n",
       "\n",
       "\n"
      ],
      "text/plain": [
       "$value\n",
       "[1] 15.98349\n",
       "\n",
       "$inferredParams\n",
       "        m0         v0        psi      theta      sigma \n",
       "-14.696322  27.638120   4.002437   2.410494   6.714301 \n"
      ]
     },
     "execution_count": 268,
     "metadata": {},
     "output_type": "execute_result"
    },
    {
     "name": "stdout",
     "output_type": "stream",
     "text": [
      "*** Fit of tip trait data ***\n",
      "Finding the maximum likelihood estimator of the parameters, before returning the likelihood and the inferred parameters...\n",
      "Computation time : 3.300177 secs \n"
     ]
    },
    {
     "data": {
      "text/html": [
       "<dl>\n",
       "\t<dt>$value</dt>\n",
       "\t\t<dd>15.9834936602653</dd>\n",
       "\t<dt>$inferredParams</dt>\n",
       "\t\t<dd><dl class=dl-horizontal>\n",
       "\t<dt>m0</dt>\n",
       "\t\t<dd>-14.6963223305121</dd>\n",
       "\t<dt>v0</dt>\n",
       "\t\t<dd>27.6381197978155</dd>\n",
       "\t<dt>psi</dt>\n",
       "\t\t<dd>4.00243741010119</dd>\n",
       "\t<dt>theta</dt>\n",
       "\t\t<dd>2.41049363492484</dd>\n",
       "\t<dt>sigma</dt>\n",
       "\t\t<dd>6.71430144973741</dd>\n",
       "</dl>\n",
       "</dd>\n",
       "</dl>\n"
      ],
      "text/latex": [
       "\\begin{description}\n",
       "\\item[\\$value] 15.9834936602653\n",
       "\\item[\\$inferredParams] \\begin{description*}\n",
       "\\item[m0] -14.6963223305121\n",
       "\\item[v0] 27.6381197978155\n",
       "\\item[psi] 4.00243741010119\n",
       "\\item[theta] 2.41049363492484\n",
       "\\item[sigma] 6.71430144973741\n",
       "\\end{description*}\n",
       "\n",
       "\\end{description}\n"
      ],
      "text/markdown": [
       "$value\n",
       ":   15.9834936602653\n",
       "$inferredParams\n",
       ":   m0\n",
       ":   -14.6963223305121v0\n",
       ":   27.6381197978155psi\n",
       ":   4.00243741010119theta\n",
       ":   2.41049363492484sigma\n",
       ":   6.71430144973741\n",
       "\n",
       "\n",
       "\n",
       "\n"
      ],
      "text/plain": [
       "$value\n",
       "[1] 15.98349\n",
       "\n",
       "$inferredParams\n",
       "        m0         v0        psi      theta      sigma \n",
       "-14.696322  27.638120   4.002437   2.410494   6.714301 \n"
      ]
     },
     "execution_count": 268,
     "metadata": {},
     "output_type": "execute_result"
    },
    {
     "name": "stdout",
     "output_type": "stream",
     "text": [
      "*** Fit of tip trait data ***\n",
      "Finding the maximum likelihood estimator of the parameters, before returning the likelihood and the inferred parameters...\n",
      "Computation time : 2.388585 mins \n"
     ]
    },
    {
     "data": {
      "text/html": [
       "<dl>\n",
       "\t<dt>$value</dt>\n",
       "\t\t<dd>15.98349369935</dd>\n",
       "\t<dt>$inferredParams</dt>\n",
       "\t\t<dd><dl class=dl-horizontal>\n",
       "\t<dt>m0</dt>\n",
       "\t\t<dd>-14.6963223305121</dd>\n",
       "\t<dt>v0</dt>\n",
       "\t\t<dd>27.6381197978155</dd>\n",
       "\t<dt>psi</dt>\n",
       "\t\t<dd>4.00243741010119</dd>\n",
       "\t<dt>theta</dt>\n",
       "\t\t<dd>2.41049363492484</dd>\n",
       "\t<dt>sigma</dt>\n",
       "\t\t<dd>6.71430144973741</dd>\n",
       "</dl>\n",
       "</dd>\n",
       "</dl>\n"
      ],
      "text/latex": [
       "\\begin{description}\n",
       "\\item[\\$value] 15.98349369935\n",
       "\\item[\\$inferredParams] \\begin{description*}\n",
       "\\item[m0] -14.6963223305121\n",
       "\\item[v0] 27.6381197978155\n",
       "\\item[psi] 4.00243741010119\n",
       "\\item[theta] 2.41049363492484\n",
       "\\item[sigma] 6.71430144973741\n",
       "\\end{description*}\n",
       "\n",
       "\\end{description}\n"
      ],
      "text/markdown": [
       "$value\n",
       ":   15.98349369935\n",
       "$inferredParams\n",
       ":   m0\n",
       ":   -14.6963223305121v0\n",
       ":   27.6381197978155psi\n",
       ":   4.00243741010119theta\n",
       ":   2.41049363492484sigma\n",
       ":   6.71430144973741\n",
       "\n",
       "\n",
       "\n",
       "\n"
      ],
      "text/plain": [
       "$value\n",
       "[1] 15.98349\n",
       "\n",
       "$inferredParams\n",
       "        m0         v0        psi      theta      sigma \n",
       "-14.696322  27.638120   4.002437   2.410494   6.714301 \n"
      ]
     },
     "execution_count": 268,
     "metadata": {},
     "output_type": "execute_result"
    }
   ],
   "source": [
    "fitTipData(modelOU, data)\n",
    "fitTipData(modelOUbis, data)\n",
    "fitTipData(modelOUter, data)"
   ]
  },
  {
   "cell_type": "markdown",
   "metadata": {},
   "source": [
    "Focusing on the computation time, it is quite easily seen how interesting it can be to do some more analytical work and write more appropriated \\texttt{getTipDistribution} functions. Still, the defaut function written for the mother class \\texttt{PhenotypicModel} should always work."
   ]
  },
  {
   "cell_type": "code",
   "execution_count": null,
   "metadata": {
    "collapsed": true
   },
   "outputs": [],
   "source": []
  }
 ],
 "metadata": {
  "kernelspec": {
   "display_name": "R",
   "language": "R",
   "name": "ir"
  },
  "language_info": {
   "codemirror_mode": "r",
   "file_extension": ".r",
   "mimetype": "text/x-r-source",
   "name": "R",
   "pygments_lexer": "r",
   "version": "3.2.3"
  }
 },
 "nbformat": 4,
 "nbformat_minor": 0
}
